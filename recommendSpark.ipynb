{
 "cells": [
  {
   "cell_type": "code",
   "execution_count": 1,
   "metadata": {
    "collapsed": true
   },
   "outputs": [],
   "source": [
    "from pyspark import  SparkContext,SparkConf\n",
    "sc = SparkContext( )                                                                                                                                                                         "
   ]
  },
  {
   "cell_type": "code",
   "execution_count": 2,
   "metadata": {},
   "outputs": [
    {
     "ename": "SyntaxError",
     "evalue": "invalid syntax (<ipython-input-2-baca9375c02e>, line 4)",
     "output_type": "error",
     "traceback": [
      "\u001b[0;36m  File \u001b[0;32m\"<ipython-input-2-baca9375c02e>\"\u001b[0;36m, line \u001b[0;32m4\u001b[0m\n\u001b[0;31m    print user_data.first()\u001b[0m\n\u001b[0m                  ^\u001b[0m\n\u001b[0;31mSyntaxError\u001b[0m\u001b[0;31m:\u001b[0m invalid syntax\n"
     ]
    }
   ],
   "source": [
    "#读文件，存储在hdfs的/data目录下\n",
    "user_data = sc.textFile(\"/data/ml-100k/u.data\")\n",
    "#取第一行,用户id，影片id， 评分，时间戳\n",
    "print user_data.first()\n",
    "rawRatings = user_data.map(lambda x: x.split('\\t'))\n",
    "rawRatings.take(5)"
   ]
  },
  {
   "cell_type": "code",
   "execution_count": 95,
   "metadata": {},
   "outputs": [
    {
     "name": "stdout",
     "output_type": "stream",
     "text": [
      "[Rating(user=196, product=242, rating=3.0), Rating(user=186, product=302, rating=3.0), Rating(user=22, product=377, rating=1.0), Rating(user=244, product=51, rating=2.0), Rating(user=166, product=346, rating=1.0)]\n"
     ]
    }
   ],
   "source": [
    "from pyspark.mllib.recommendation import Rating, ALS\n",
    "#\n",
    "ratings = rawRatings.map(lambda x: Rating(int(x[0]),int(x[1]),float(x[2])))\n",
    "print ratings.take(5)"
   ]
  },
  {
   "cell_type": "code",
   "execution_count": 86,
   "metadata": {},
   "outputs": [
    {
     "name": "stdout",
     "output_type": "stream",
     "text": [
      "943 1682\n"
     ]
    }
   ],
   "source": [
    "#rank、iterations和lambda参数的值分别为50、10和0.01\n",
    "model = ALS.train(ratings, 50, 10, 0.01)\n",
    "userFeatures = model.userFeatures()\n",
    "produceFeatures = model.productFeatures()\n",
    "print userFeatures.count(), produceFeatures.count()\n"
   ]
  },
  {
   "cell_type": "code",
   "execution_count": 87,
   "metadata": {},
   "outputs": [
    {
     "name": "stdout",
     "output_type": "stream",
     "text": [
      "3.72708593715\n",
      "Rating(user=789, product=56, rating=5.928617614704717)\n",
      "Rating(user=789, product=488, rating=5.321371873378474)\n",
      "Rating(user=789, product=156, rating=5.302823174330343)\n",
      "Rating(user=789, product=86, rating=5.228895000126937)\n",
      "Rating(user=789, product=475, rating=5.088201342651726)\n",
      "Rating(user=789, product=195, rating=5.08163768546423)\n",
      "Rating(user=789, product=47, rating=5.059224268426972)\n",
      "Rating(user=789, product=129, rating=5.030381578142392)\n",
      "Rating(user=789, product=127, rating=5.008146973830464)\n",
      "Rating(user=789, product=100, rating=4.970468607026141)\n"
     ]
    }
   ],
   "source": [
    "#预测用户对电影的评分\n",
    "predictRating = model.predict(789,123)\n",
    "print predictRating\n",
    "#获取用户评分最高的n个物品\n",
    "topKRecs = model.recommendProducts(789,10)\n",
    "for rec in topKRecs:\n",
    "    print rec"
   ]
  },
  {
   "cell_type": "code",
   "execution_count": 88,
   "metadata": {},
   "outputs": [
    {
     "name": "stdout",
     "output_type": "stream",
     "text": [
      "127 5.0\n",
      "475 5.0\n",
      "9 5.0\n",
      "50 5.0\n",
      "150 5.0\n",
      "276 5.0\n",
      "129 5.0\n",
      "100 5.0\n",
      "741 5.0\n",
      "1012 4.0\n",
      "93 4.0\n",
      "293 4.0\n",
      "181 4.0\n",
      "1008 4.0\n",
      "508 4.0\n",
      "1007 4.0\n",
      "124 4.0\n",
      "1161 3.0\n",
      "294 3.0\n",
      "1 3.0\n",
      "284 3.0\n",
      "1017 3.0\n",
      "111 3.0\n",
      "742 3.0\n",
      "248 3.0\n",
      "249 3.0\n",
      "591 3.0\n",
      "288 3.0\n",
      "762 3.0\n",
      "628 3.0\n",
      "137 2.0\n",
      "151 2.0\n",
      "286 1.0\n"
     ]
    }
   ],
   "source": [
    "#查看某一用户评级过的电影\n",
    "moviesForUser = ratings.groupBy(lambda x : x.user).mapValues(list).lookup(789)\n",
    "for i in sorted(moviesForUser[0],key=lambda x : x.rating,reverse=True):\n",
    "    print i.product, i.rating"
   ]
  },
  {
   "cell_type": "code",
   "execution_count": 89,
   "metadata": {},
   "outputs": [
    {
     "name": "stdout",
     "output_type": "stream",
     "text": [
      "rank:0 Pulp Fiction (1994):5.9286176147\n",
      "rank:1 Sunset Blvd. (1950):5.32137187338\n",
      "rank:2 Reservoir Dogs (1992):5.30282317433\n",
      "rank:3 Remains of the Day, The (1993):5.22889500013\n",
      "rank:4 Trainspotting (1996):5.08820134265\n",
      "rank:5 Terminator, The (1984):5.08163768546\n",
      "rank:6 Ed Wood (1994):5.05922426843\n",
      "rank:7 Bound (1996):5.03038157814\n",
      "rank:8 Godfather, The (1972):5.00814697383\n",
      "rank:9 Fargo (1996):4.97046860703\n"
     ]
    }
   ],
   "source": [
    "#load movie info\n",
    "movies = sc.textFile(\"/data/ml-100k/u.item\")\n",
    "titles = movies.map(lambda line: (int(line.split('|')[0]),line.split('|')[1])).collectAsMap()\n",
    "#print titles.values()\n",
    "#print movies.take(5)\n",
    "for i,rec in enumerate(topKRecs):\n",
    "    print 'rank:'+str(i)+' '+str(titles[rec.product])+':'+str(rec.rating)"
   ]
  },
  {
   "cell_type": "code",
   "execution_count": 90,
   "metadata": {},
   "outputs": [
    {
     "name": "stdout",
     "output_type": "stream",
     "text": [
      "[(4, 0.70832146828666498), (8, 0.70586454886399541)]\n",
      "[(123, 1.0), (232, 0.83396609111740916), (471, 0.83127531828667356), (234, 0.81320819368222153), (28, 0.80862052795066497)]\n"
     ]
    }
   ],
   "source": [
    "import numpy as np\n",
    "#cosin similary\n",
    "def cosSimilarity(x,y):\n",
    "    #norm ||A||_F = [\\sum_{i,j} abs(a_{i,j})^2]^{1/2}\n",
    "     return np.dot(x,y)/(np.linalg.norm(x)*np.linalg.norm(y))\n",
    "itemId = 123\n",
    "itemFactor = model.productFeatures().lookup(itemId)[0]\n",
    "#print itemFactor\n",
    "sims = model.productFeatures().map(lambda (movieID, factor):(movieID, cosSimilarity(np.array(factor), np.array(itemFactor))))\n",
    "print sims.take(2)\n",
    "\n",
    "#desent sort\n",
    "#sims.sortBy(lambda (x,y):y,ascending=False).take(10)\n",
    "simsSorted = sims.sortBy(lambda (x,y):y,ascending=False)\n",
    "print simsSorted.take(5)\n",
    "\n"
   ]
  },
  {
   "cell_type": "code",
   "execution_count": 91,
   "metadata": {},
   "outputs": [
    {
     "name": "stdout",
     "output_type": "stream",
     "text": [
      "Rating(user=789, product=1012, rating=4.0)\n",
      "real= 4.0 preRating= 4.01251867655 err= 0.000156717262495\n"
     ]
    }
   ],
   "source": [
    "print moviesForUser[0][0]\n",
    "actual = moviesForUser[0][0];\n",
    "realRating = actual.rating;\n",
    "preRating = model.predict(789, actual.product)\n",
    "squaredError = np.power(realRating-preRating,2)\n",
    "print \"real=\",realRating,\"preRating=\", preRating,\"err=\",squaredError"
   ]
  },
  {
   "cell_type": "code",
   "execution_count": 97,
   "metadata": {},
   "outputs": [
    {
     "name": "stdout",
     "output_type": "stream",
     "text": [
      "real score: [(196, 242), (186, 302), (22, 377), (244, 51), (166, 346)]\n",
      "Rating(user=316, product=1084, rating=3.976026493965973)\n",
      "predict score : [((316, 1084), 3.976026493965973), ((504, 1084), 3.9701833573179384), ((424, 1084), 4.94011247511074), ((541, 1084), 4.046125074732896), ((181, 1084), 2.054232861025692)]\n",
      "组合预测的评分和实际的评分: [((711, 707), (5.0, 5.051851837818666)), ((650, 622), (3.0, 2.96665352309867)), ((472, 584), (1.0, 1.5990634734057037)), ((752, 316), (3.0, 2.937980478079039)), ((18, 428), (3.0, 3.3934276676079946))]\n",
      "模型的均方误差: 0.0844192690433\n",
      "模型的均方根误差: 0.290549942425\n"
     ]
    }
   ],
   "source": [
    "userProducts = ratings.map(lambda rating:(rating.user, rating.product))\n",
    "print 'real score:',userProducts.take(5)\n",
    "\n",
    "#预测所有用户对电影的相应评分\n",
    "print model.predictAll(userProducts).collect()[0]\n",
    "predictions = model.predictAll(userProducts).map(lambda rating:((rating.user,rating.product), rating.rating))\n",
    "print 'predict score :',predictions.take(5)\n",
    "\n",
    "ratingsAndPredictions = ratings.map(lambda rating:((rating.user,rating.product),rating.rating)).join(predictions)\n",
    "print '组合预测的评分和实际的评分:',ratingsAndPredictions.take(5)\n",
    "\n",
    "MSE = ratingsAndPredictions.map(lambda ((x,y),(m,n)):np.power(m-n,2)).reduce(lambda x,y:x+y)/ratingsAndPredictions.count() \n",
    "print '模型的均方误差:',MSE \n",
    "print '模型的均方根误差:',np.sqrt(MSE)"
   ]
  },
  {
   "cell_type": "code",
   "execution_count": 96,
   "metadata": {},
   "outputs": [
    {
     "name": "stdout",
     "output_type": "stream",
     "text": [
      "[(5.0, 5.051851837818666), (3.0, 2.96665352309867), (1.0, 1.5990634734057037), (3.0, 2.937980478079039), (3.0, 3.3934276676079946)]\n",
      "均方误差 = 0.084419\n",
      "均方根误差 = 0.290550\n"
     ]
    }
   ],
   "source": [
    "from pyspark.mllib.evaluation import RegressionMetrics\n",
    "from pyspark.mllib.evaluation import RankingMetrics\n",
    "predictedAndTrue = ratingsAndPredictions.map(lambda ((userId,product),(predicted, actual))\n",
    "      :(predicted,actual))\n",
    "print predictedAndTrue.take(5)\n",
    "regressionMetrics = RegressionMetrics(predictedAndTrue)\n",
    "print \"均方误差 = %f\"%regressionMetrics.meanSquaredError\n",
    "print \"均方根误差 = %f\"% regressionMetrics.rootMeanSquaredError"
   ]
  },
  {
   "cell_type": "code",
   "execution_count": null,
   "metadata": {
    "collapsed": true
   },
   "outputs": [],
   "source": []
  },
  {
   "cell_type": "code",
   "execution_count": null,
   "metadata": {
    "collapsed": true
   },
   "outputs": [],
   "source": []
  },
  {
   "cell_type": "code",
   "execution_count": null,
   "metadata": {
    "collapsed": true
   },
   "outputs": [],
   "source": []
  }
 ],
 "metadata": {
  "kernelspec": {
   "display_name": "python3.5.2",
   "language": "python",
   "name": "python3.5.2"
  },
  "language_info": {
   "codemirror_mode": {
    "name": "ipython",
    "version": 3
   },
   "file_extension": ".py",
   "mimetype": "text/x-python",
   "name": "python",
   "nbconvert_exporter": "python",
   "pygments_lexer": "ipython3",
   "version": "3.5.2"
  }
 },
 "nbformat": 4,
 "nbformat_minor": 2
}
