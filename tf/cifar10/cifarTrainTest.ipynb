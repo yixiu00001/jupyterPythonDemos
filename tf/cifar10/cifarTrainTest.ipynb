{
 "cells": [
  {
   "cell_type": "code",
   "execution_count": 1,
   "metadata": {
    "collapsed": true
   },
   "outputs": [],
   "source": [
    "import cifar10, cifar10_input\n",
    "import tensorflow as tf\n",
    "import numpy as np\n",
    "import time"
   ]
  },
  {
   "cell_type": "code",
   "execution_count": 2,
   "metadata": {
    "collapsed": true
   },
   "outputs": [],
   "source": [
    "\n",
    "batch_size = 128\n"
   ]
  },
  {
   "cell_type": "code",
   "execution_count": 3,
   "metadata": {},
   "outputs": [],
   "source": [
    "#usr cifar 10 dataset and extract\n",
    "cifar10.maybe_download_and_extract()"
   ]
  },
  {
   "cell_type": "code",
   "execution_count": 4,
   "metadata": {},
   "outputs": [
    {
     "name": "stdout",
     "output_type": "stream",
     "text": [
      "Filling queue with 20000 CIFAR images before starting to train. This will take a few minutes.\n"
     ]
    }
   ],
   "source": [
    "data_dir = '/tmp/cifar10_data/cifar-10-batches-bin'\n",
    "image_train, labels_train = cifar10_input.distorted_inputs(data_dir=data_dir, batch_size = batch_size)"
   ]
  },
  {
   "cell_type": "code",
   "execution_count": 5,
   "metadata": {},
   "outputs": [
    {
     "name": "stdout",
     "output_type": "stream",
     "text": [
      "(128, 24, 24, 3)\n"
     ]
    }
   ],
   "source": [
    "image_test, labels_test = cifar10_input.inputs(eval_data=True, data_dir = data_dir, batch_size = batch_size)\n",
    "print image_test.shape"
   ]
  },
  {
   "cell_type": "code",
   "execution_count": 6,
   "metadata": {
    "collapsed": true
   },
   "outputs": [],
   "source": [
    "#create inputs's placeholder， 特征和lable，batch_size在之后定义网络结构时用到了，所以数据尺寸中的第一个值即样本条数需要被预先设定\n",
    "image_holder = tf.placeholder(tf.float32,  [batch_size, 24, 24,3])\n",
    "label_holder = tf.placeholder(tf.int32, [batch_size])"
   ]
  },
  {
   "cell_type": "code",
   "execution_count": 7,
   "metadata": {
    "collapsed": true
   },
   "outputs": [],
   "source": [
    "def variable_with_weight_loss(shape, stddev, wl):\n",
    "    var =tf.Variable(tf.truncated_normal(shape, stddev=stddev))\n",
    "    if wl is not None:\n",
    "        weight_loss = tf.multiply(tf.nn.l2_loss(var), wl,name = 'weight_loss')\n",
    "        tf.add_to_collection('losses', weight_loss)\n",
    "    return var"
   ]
  },
  {
   "cell_type": "code",
   "execution_count": 8,
   "metadata": {
    "collapsed": true
   },
   "outputs": [],
   "source": [
    "#the first network\n",
    "weight1 = variable_with_weight_loss(shape=[5,5,3,64], stddev=5e-2,  wl=0.0)\n",
    "kernel1 = tf.nn.conv2d(image_holder, weight1, [1,1,1,1], padding='SAME')\n",
    "bias1 = tf.Variable(tf.constant(0.0, shape=[64]))\n",
    "conv1 = tf.nn.relu(tf.nn.bias_add(kernel1, bias1))\n",
    "pool1 = tf.nn.max_pool(conv1, ksize=[1,3,3,1], strides=[1,2,2,1], padding='SAME')\n",
    "norm1 = tf.nn.lrn(pool1, 4,bias=1.0, alpha=0.001/9.0, beta=0.75)"
   ]
  },
  {
   "cell_type": "code",
   "execution_count": 9,
   "metadata": {
    "collapsed": true
   },
   "outputs": [],
   "source": [
    "#the sercond network\n",
    "weight2 = variable_with_weight_loss(shape=[5,5,64,64], stddev=5e-2, wl=0.00)\n",
    "kernel2 = tf.nn.conv2d(norm1, weight2, [1,1,1,1], padding='SAME')\n",
    "bias2 = tf.Variable(tf.constant(0.1, shape=[64]))\n",
    "conv2 = tf.nn.relu(tf.nn.bias_add(kernel2, bias2))\n",
    "norm2 = tf.nn.lrn(conv2, 4,bias=1.0, alpha=0.001/9.0, beta=0.75)\n",
    "pool2 = tf.nn.max_pool(norm2, ksize=[1,3,3,1], strides=[1,2,2,1], padding='SAME')"
   ]
  },
  {
   "cell_type": "code",
   "execution_count": 10,
   "metadata": {
    "collapsed": true
   },
   "outputs": [],
   "source": [
    "#after the conv layer, full connect layer\n",
    "reshape = tf.reshape(pool2, [batch_size, -1])\n",
    "dim = reshape.get_shape()[1].value\n",
    "weight3 = variable_with_weight_loss(shape=[dim, 384], stddev=0.04, wl=0.004)\n",
    "bias3 = tf.Variable(tf.constant(0.1, shape=[384]))\n",
    "local3 = tf.nn.relu(tf.matmul(reshape, weight3)+bias3)"
   ]
  },
  {
   "cell_type": "code",
   "execution_count": 11,
   "metadata": {
    "collapsed": true
   },
   "outputs": [],
   "source": [
    "#this is full connect layer, too\n",
    "weight4 = variable_with_weight_loss(shape=[384, 192], stddev=0.04, wl = 0.004)\n",
    "bias4 = tf.Variable(tf.constant(0.1, shape=[192]))\n",
    "local4 = tf.nn.relu(tf.matmul(local3, weight4) + bias4)"
   ]
  },
  {
   "cell_type": "code",
   "execution_count": 12,
   "metadata": {
    "collapsed": true
   },
   "outputs": [],
   "source": [
    "#the last layer\n",
    "weight5 = variable_with_weight_loss(shape=[192, 10], stddev=1/192.0, wl=0.0)\n",
    "bias5 = tf.Variable(tf.constant(0.0, shape=[10]))\n",
    "logis = tf.add(tf.matmul(local4, weight5), bias5)"
   ]
  },
  {
   "cell_type": "code",
   "execution_count": 13,
   "metadata": {
    "collapsed": true
   },
   "outputs": [],
   "source": [
    "#loss\n",
    "def loss(logits, labels):\n",
    "    labels = tf.cast(labels, tf.int64)\n",
    "    cross_entropy = tf.nn.sparse_softmax_cross_entropy_with_logits(logits=logits, labels=labels, name='cross_entropy_per_example')\n",
    "    cross_entropy_mean = tf.reduce_mean(cross_entropy, name='cross_entropy')\n",
    "    tf.add_to_collection('losses', cross_entropy_mean)\n",
    "    \n",
    "    return tf.add_n(tf.get_collection('losses'), name='total_loss')\n"
   ]
  },
  {
   "cell_type": "code",
   "execution_count": 14,
   "metadata": {
    "collapsed": true
   },
   "outputs": [],
   "source": [
    "loss = loss(logis, label_holder)"
   ]
  },
  {
   "cell_type": "code",
   "execution_count": 15,
   "metadata": {
    "collapsed": true
   },
   "outputs": [],
   "source": [
    "#优化器选择AdamOptimizer\n",
    "train_op = tf.train.AdamOptimizer(1e-3).minimize(loss)"
   ]
  },
  {
   "cell_type": "code",
   "execution_count": 16,
   "metadata": {
    "collapsed": true
   },
   "outputs": [],
   "source": [
    "#get top k result\n",
    "top_k_op = tf.nn.in_top_k(logis, label_holder, 1)"
   ]
  },
  {
   "cell_type": "code",
   "execution_count": 17,
   "metadata": {
    "collapsed": true
   },
   "outputs": [],
   "source": [
    "sess = tf.InteractiveSession()\n",
    "tf.global_variables_initializer().run()"
   ]
  },
  {
   "cell_type": "code",
   "execution_count": 18,
   "metadata": {},
   "outputs": [
    {
     "data": {
      "text/plain": [
       "[<Thread(Thread-4, started daemon 139810391979776)>,\n",
       " <Thread(Thread-5, started daemon 139810043852544)>,\n",
       " <Thread(Thread-6, started daemon 139810035459840)>,\n",
       " <Thread(Thread-7, started daemon 139810027067136)>,\n",
       " <Thread(Thread-8, started daemon 139810018674432)>,\n",
       " <Thread(Thread-9, started daemon 139810010281728)>,\n",
       " <Thread(Thread-10, started daemon 139810001889024)>,\n",
       " <Thread(Thread-11, started daemon 139809993496320)>,\n",
       " <Thread(Thread-12, started daemon 139809775417088)>,\n",
       " <Thread(Thread-13, started daemon 139809767024384)>,\n",
       " <Thread(Thread-14, started daemon 139809758631680)>,\n",
       " <Thread(Thread-15, started daemon 139809750238976)>,\n",
       " <Thread(Thread-16, started daemon 139809741846272)>,\n",
       " <Thread(Thread-17, started daemon 139809733453568)>,\n",
       " <Thread(Thread-18, started daemon 139809725060864)>,\n",
       " <Thread(Thread-19, started daemon 139809641199360)>,\n",
       " <Thread(Thread-20, started daemon 139809632806656)>,\n",
       " <Thread(Thread-21, started daemon 139809624413952)>,\n",
       " <Thread(Thread-22, started daemon 139809616021248)>,\n",
       " <Thread(Thread-23, started daemon 139809607628544)>,\n",
       " <Thread(Thread-24, started daemon 139809599235840)>,\n",
       " <Thread(Thread-25, started daemon 139809590843136)>,\n",
       " <Thread(Thread-26, started daemon 139809582450432)>,\n",
       " <Thread(Thread-27, started daemon 139809574057728)>,\n",
       " <Thread(Thread-28, started daemon 139809565665024)>,\n",
       " <Thread(Thread-29, started daemon 139809557272320)>,\n",
       " <Thread(Thread-30, started daemon 139809548879616)>,\n",
       " <Thread(Thread-31, started daemon 139809540486912)>,\n",
       " <Thread(Thread-32, started daemon 139809532094208)>,\n",
       " <Thread(Thread-33, started daemon 139809523701504)>,\n",
       " <Thread(Thread-34, started daemon 139809515308800)>,\n",
       " <Thread(Thread-35, started daemon 139809506916096)>,\n",
       " <Thread(Thread-36, started daemon 139809498523392)>,\n",
       " <Thread(Thread-37, started daemon 139809490130688)>]"
      ]
     },
     "execution_count": 18,
     "metadata": {},
     "output_type": "execute_result"
    }
   ],
   "source": [
    "tf.train.start_queue_runners()"
   ]
  },
  {
   "cell_type": "code",
   "execution_count": 19,
   "metadata": {},
   "outputs": [
    {
     "name": "stdout",
     "output_type": "stream",
     "text": [
      "step 0, loss=4.68 (16.2 example/sec; 7.912 sec/per_batch)\n",
      "step 50, loss=2.22 (127.8 example/sec; 1.002 sec/per_batch)\n",
      "step 100, loss=2.00 (131.3 example/sec; 0.975 sec/per_batch)\n",
      "step 150, loss=1.68 (127.1 example/sec; 1.007 sec/per_batch)\n",
      "step 200, loss=1.69 (128.9 example/sec; 0.993 sec/per_batch)\n",
      "step 250, loss=1.53 (127.7 example/sec; 1.002 sec/per_batch)\n",
      "step 300, loss=1.93 (70.4 example/sec; 1.819 sec/per_batch)\n",
      "step 350, loss=1.47 (126.8 example/sec; 1.009 sec/per_batch)\n",
      "step 400, loss=1.53 (126.6 example/sec; 1.011 sec/per_batch)\n",
      "step 450, loss=1.36 (81.0 example/sec; 1.580 sec/per_batch)\n",
      "step 500, loss=1.49 (122.6 example/sec; 1.044 sec/per_batch)\n",
      "step 550, loss=1.39 (91.2 example/sec; 1.403 sec/per_batch)\n",
      "step 600, loss=1.35 (128.7 example/sec; 0.994 sec/per_batch)\n",
      "step 650, loss=1.64 (116.5 example/sec; 1.099 sec/per_batch)\n",
      "step 700, loss=1.46 (116.2 example/sec; 1.102 sec/per_batch)\n",
      "step 750, loss=1.31 (76.5 example/sec; 1.673 sec/per_batch)\n",
      "step 800, loss=1.19 (118.9 example/sec; 1.077 sec/per_batch)\n",
      "step 850, loss=1.15 (81.2 example/sec; 1.577 sec/per_batch)\n",
      "step 900, loss=1.24 (128.9 example/sec; 0.993 sec/per_batch)\n",
      "step 950, loss=1.19 (55.3 example/sec; 2.313 sec/per_batch)\n",
      "step 1000, loss=1.11 (126.2 example/sec; 1.014 sec/per_batch)\n",
      "step 1050, loss=1.39 (119.5 example/sec; 1.071 sec/per_batch)\n",
      "step 1100, loss=1.24 (107.4 example/sec; 1.192 sec/per_batch)\n",
      "step 1150, loss=1.43 (128.4 example/sec; 0.997 sec/per_batch)\n",
      "step 1200, loss=1.14 (127.8 example/sec; 1.002 sec/per_batch)\n",
      "step 1250, loss=1.20 (125.4 example/sec; 1.021 sec/per_batch)\n",
      "step 1300, loss=1.12 (123.5 example/sec; 1.036 sec/per_batch)\n",
      "step 1350, loss=1.18 (124.7 example/sec; 1.026 sec/per_batch)\n",
      "step 1400, loss=1.11 (130.2 example/sec; 0.983 sec/per_batch)\n",
      "step 1450, loss=1.35 (67.6 example/sec; 1.892 sec/per_batch)\n",
      "step 1500, loss=1.24 (120.6 example/sec; 1.061 sec/per_batch)\n",
      "step 1550, loss=1.16 (67.7 example/sec; 1.890 sec/per_batch)\n",
      "step 1600, loss=1.22 (125.2 example/sec; 1.022 sec/per_batch)\n",
      "step 1650, loss=1.10 (69.5 example/sec; 1.843 sec/per_batch)\n",
      "step 1700, loss=1.09 (47.8 example/sec; 2.678 sec/per_batch)\n",
      "step 1750, loss=1.14 (125.6 example/sec; 1.019 sec/per_batch)\n",
      "step 1800, loss=1.14 (73.3 example/sec; 1.747 sec/per_batch)\n",
      "step 1850, loss=1.33 (93.0 example/sec; 1.377 sec/per_batch)\n",
      "step 1900, loss=0.95 (126.1 example/sec; 1.015 sec/per_batch)\n",
      "step 1950, loss=1.16 (124.9 example/sec; 1.024 sec/per_batch)\n",
      "step 2000, loss=1.14 (130.0 example/sec; 0.985 sec/per_batch)\n",
      "step 2050, loss=1.12 (127.1 example/sec; 1.007 sec/per_batch)\n",
      "step 2100, loss=1.12 (127.3 example/sec; 1.005 sec/per_batch)\n",
      "step 2150, loss=1.11 (127.2 example/sec; 1.006 sec/per_batch)\n",
      "step 2200, loss=1.20 (129.5 example/sec; 0.989 sec/per_batch)\n",
      "step 2250, loss=1.17 (125.4 example/sec; 1.021 sec/per_batch)\n",
      "step 2300, loss=0.89 (80.7 example/sec; 1.587 sec/per_batch)\n",
      "step 2350, loss=1.09 (116.9 example/sec; 1.095 sec/per_batch)\n",
      "step 2400, loss=1.05 (122.6 example/sec; 1.044 sec/per_batch)\n",
      "step 2450, loss=1.23 (127.2 example/sec; 1.006 sec/per_batch)\n",
      "step 2500, loss=0.97 (104.1 example/sec; 1.230 sec/per_batch)\n",
      "step 2550, loss=1.01 (117.3 example/sec; 1.091 sec/per_batch)\n",
      "step 2600, loss=1.13 (54.3 example/sec; 2.356 sec/per_batch)\n",
      "step 2650, loss=0.92 (127.4 example/sec; 1.005 sec/per_batch)\n",
      "step 2700, loss=1.08 (123.8 example/sec; 1.034 sec/per_batch)\n",
      "step 2750, loss=1.08 (128.6 example/sec; 0.996 sec/per_batch)\n",
      "step 2800, loss=1.09 (122.0 example/sec; 1.049 sec/per_batch)\n",
      "step 2850, loss=1.12 (91.8 example/sec; 1.394 sec/per_batch)\n",
      "step 2900, loss=1.07 (129.1 example/sec; 0.992 sec/per_batch)\n",
      "step 2950, loss=1.06 (123.4 example/sec; 1.038 sec/per_batch)\n",
      "step 3000, loss=1.25 (125.8 example/sec; 1.018 sec/per_batch)\n",
      "step 3050, loss=1.10 (79.2 example/sec; 1.615 sec/per_batch)\n",
      "step 3100, loss=1.08 (64.8 example/sec; 1.975 sec/per_batch)\n",
      "step 3150, loss=0.88 (126.4 example/sec; 1.012 sec/per_batch)\n",
      "step 3200, loss=1.07 (117.6 example/sec; 1.088 sec/per_batch)\n",
      "step 3250, loss=0.94 (124.8 example/sec; 1.026 sec/per_batch)\n",
      "step 3300, loss=1.16 (128.2 example/sec; 0.998 sec/per_batch)\n",
      "step 3350, loss=1.04 (119.1 example/sec; 1.074 sec/per_batch)\n",
      "step 3400, loss=0.94 (128.7 example/sec; 0.995 sec/per_batch)\n",
      "step 3450, loss=1.06 (129.9 example/sec; 0.985 sec/per_batch)\n",
      "step 3500, loss=0.96 (114.8 example/sec; 1.115 sec/per_batch)\n",
      "step 3550, loss=1.09 (125.3 example/sec; 1.021 sec/per_batch)\n",
      "step 3600, loss=1.02 (126.1 example/sec; 1.015 sec/per_batch)\n",
      "step 3650, loss=1.08 (115.3 example/sec; 1.110 sec/per_batch)\n",
      "step 3700, loss=1.03 (120.0 example/sec; 1.067 sec/per_batch)\n",
      "step 3750, loss=1.05 (129.0 example/sec; 0.992 sec/per_batch)\n",
      "step 3800, loss=0.94 (121.2 example/sec; 1.056 sec/per_batch)\n",
      "step 3850, loss=1.14 (123.2 example/sec; 1.039 sec/per_batch)\n",
      "step 3900, loss=0.90 (106.7 example/sec; 1.200 sec/per_batch)\n",
      "step 3950, loss=0.82 (107.6 example/sec; 1.190 sec/per_batch)\n"
     ]
    }
   ],
   "source": [
    "#begin to train\n",
    "max_step = 4000\n",
    "for step in range(max_step):\n",
    "    start_time = time.time()\n",
    "    image_batch, label_batch = sess.run([image_train, labels_train])\n",
    "    _, loss_value = sess.run([train_op, loss], feed_dict={image_holder:image_batch, label_holder:label_batch})\n",
    "    duration = time.time() - start_time\n",
    "    if step%50==0:\n",
    "        examples_per_sec = batch_size/duration\n",
    "        sec_per_batch = float(duration)\n",
    "        format_str = ('step %d, loss=%.2f (%.1f example/sec; %.3f sec/per_batch)')\n",
    "        print(format_str %(step, loss_value, examples_per_sec, sec_per_batch))"
   ]
  },
  {
   "cell_type": "code",
   "execution_count": 20,
   "metadata": {},
   "outputs": [
    {
     "name": "stdout",
     "output_type": "stream",
     "text": [
      "INFO:tensorflow:Restoring parameters from /data/1xiu/models/cifar/cifar_model\n"
     ]
    }
   ],
   "source": [
    "saver = tf.train.Saver()\n",
    "model_dir = \"/data/1xiu/models/cifar\"\n",
    "model_name = \"cifar_model\"\n",
    "if not os.path.exists(model_dir):\n",
    "    os.mkdir(model_dir)\n",
    "saver.save(sess,os.path.join(model_dir, model_name))\n",
    "\n",
    "saver.restore(sess, os.path.join(model_dir, model_name))"
   ]
  },
  {
   "cell_type": "code",
   "execution_count": 21,
   "metadata": {
    "collapsed": true
   },
   "outputs": [],
   "source": [
    "num_examples = 10000\n",
    "import math\n"
   ]
  },
  {
   "cell_type": "code",
   "execution_count": 22,
   "metadata": {},
   "outputs": [
    {
     "name": "stdout",
     "output_type": "stream",
     "text": [
      "(10000, 128, 78)\n",
      "94\n",
      "1036\n",
      "1965\n",
      "2892\n",
      "3856\n",
      "4808\n",
      "5725\n",
      "6650\n"
     ]
    }
   ],
   "source": [
    "num_iter = int(math.ceil(num_examples/batch_size))\n",
    "print(num_examples, batch_size, num_iter)\n",
    "true_count=0\n",
    "total_sample_count = num_iter*batch_size\n",
    "step = 0\n",
    "while step<num_iter:\n",
    "    image_batch, label_batch = sess.run([image_test, labels_test])\n",
    "    predictions = sess.run([top_k_op], feed_dict={image_holder:image_batch, label_holder:label_batch})\n",
    "    true_count += np.sum(predictions)\n",
    "    if step %10==0:\n",
    "        print true_count\n",
    "    step += 1"
   ]
  },
  {
   "cell_type": "code",
   "execution_count": 23,
   "metadata": {},
   "outputs": [
    {
     "name": "stdout",
     "output_type": "stream",
     "text": [
      "precision @ =0.733\n"
     ]
    }
   ],
   "source": [
    "precision = true_count*1.0 / total_sample_count\n",
    "print('precision @ =%.3f' %precision)"
   ]
  },
  {
   "cell_type": "code",
   "execution_count": null,
   "metadata": {
    "collapsed": true
   },
   "outputs": [],
   "source": []
  },
  {
   "cell_type": "code",
   "execution_count": null,
   "metadata": {
    "collapsed": true
   },
   "outputs": [],
   "source": []
  }
 ],
 "metadata": {
  "kernelspec": {
   "display_name": "Python 2",
   "language": "python",
   "name": "python2"
  },
  "language_info": {
   "codemirror_mode": {
    "name": "ipython",
    "version": 2
   },
   "file_extension": ".py",
   "mimetype": "text/x-python",
   "name": "python",
   "nbconvert_exporter": "python",
   "pygments_lexer": "ipython2",
   "version": "2.7.13"
  }
 },
 "nbformat": 4,
 "nbformat_minor": 2
}
