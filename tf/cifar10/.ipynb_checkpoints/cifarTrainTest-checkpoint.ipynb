{
 "cells": [
  {
   "cell_type": "code",
   "execution_count": 1,
   "metadata": {
    "collapsed": true
   },
   "outputs": [],
   "source": [
    "import cifar10, cifar10_input\n",
    "import tensorflow as tf\n",
    "import numpy as np\n",
    "import time"
   ]
  },
  {
   "cell_type": "code",
   "execution_count": 2,
   "metadata": {
    "collapsed": true
   },
   "outputs": [],
   "source": [
    "\n",
    "batch_size = 128\n"
   ]
  },
  {
   "cell_type": "code",
   "execution_count": 3,
   "metadata": {
    "collapsed": true
   },
   "outputs": [],
   "source": []
  },
  {
   "cell_type": "code",
   "execution_count": 4,
   "metadata": {},
   "outputs": [
    {
     "name": "stdout",
     "output_type": "stream",
     "text": [
      ">> Downloading cifar-10-binary.tar.gz 100.0%\n",
      "Successfully downloaded cifar-10-binary.tar.gz 170052171 bytes.\n"
     ]
    }
   ],
   "source": [
    "#usr cifar 10 dataset and extract\n",
    "cifar10.maybe_download_and_extract()"
   ]
  },
  {
   "cell_type": "code",
   "execution_count": 8,
   "metadata": {},
   "outputs": [
    {
     "name": "stdout",
     "output_type": "stream",
     "text": [
      "Filling queue with 20000 CIFAR images before starting to train. This will take a few minutes.\n"
     ]
    }
   ],
   "source": [
    "data_dir = '/tmp/cifar10_data/cifar-10-batches-bin'\n",
    "image_train, labels_train = cifar10_input.distorted_inputs(data_dir=data_dir, batch_size = batch_size)"
   ]
  },
  {
   "cell_type": "code",
   "execution_count": 96,
   "metadata": {},
   "outputs": [
    {
     "name": "stdout",
     "output_type": "stream",
     "text": [
      "(128, 24, 24, 3)\n"
     ]
    }
   ],
   "source": [
    "image_test, labels_test = cifar10_input.inputs(eval_data=True, data_dir = data_dir, batch_size = batch_size)\n",
    "print image_test.shape"
   ]
  },
  {
   "cell_type": "code",
   "execution_count": 10,
   "metadata": {
    "collapsed": true
   },
   "outputs": [],
   "source": [
    "#create inputs's placeholder， 特征和lable，batch_size在之后定义网络结构时用到了，所以数据尺寸中的第一个值即样本条数需要被预先设定\n",
    "image_holder = tf.placeholder(tf.float32,  [batch_size, 24, 24,3])\n",
    "label_holder = tf.placeholder(tf.int32, [batch_size])"
   ]
  },
  {
   "cell_type": "code",
   "execution_count": 35,
   "metadata": {
    "collapsed": true
   },
   "outputs": [],
   "source": [
    "def variable_with_weight_loss(shape, stddev, wl):\n",
    "    var =tf.Variable(tf.truncated_normal(shape, stddev=stddev))\n",
    "    if wl is not None:\n",
    "        weight_loss = tf.multiply(tf.nn.l2_loss(var), wl,name = 'weight_loss')\n",
    "        tf.add_to_collection('losses', weight_loss)\n",
    "    return var"
   ]
  },
  {
   "cell_type": "code",
   "execution_count": 36,
   "metadata": {},
   "outputs": [],
   "source": [
    "#the first network\n",
    "weight1 = variable_with_weight_loss(shape=[5,5,3,64], stddev=5e-2,  wl=0.0)\n",
    "kernel1 = tf.nn.conv2d(image_holder, weight1, [1,1,1,1], padding='SAME')\n",
    "bias1 = tf.Variable(tf.constant(0.0, shape=[64]))\n",
    "conv1 = tf.nn.relu(tf.nn.bias_add(kernel1, bias1))\n",
    "pool1 = tf.nn.max_pool(conv1, ksize=[1,3,3,1], strides=[1,2,2,1], padding='SAME')\n",
    "norm1 = tf.nn.lrn(pool1, 4,bias=1.0, alpha=0.001/9.0, beta=0.75)"
   ]
  },
  {
   "cell_type": "code",
   "execution_count": 37,
   "metadata": {},
   "outputs": [],
   "source": [
    "#the sercond network\n",
    "weight2 = variable_with_weight_loss(shape=[5,5,64,64], stddev=5e-2, wl=0.00)\n",
    "kernel2 = tf.nn.conv2d(norm1, weight2, [1,1,1,1], padding='SAME')\n",
    "bias2 = tf.Variable(tf.constant(0.1, shape=[64]))\n",
    "conv2 = tf.nn.relu(tf.nn.bias_add(kernel2, bias2))\n",
    "norm2 = tf.nn.lrn(conv2, 4,bias=1.0, alpha=0.001/9.0, beta=0.75)\n",
    "pool2 = tf.nn.max_pool(norm2, ksize=[1,3,3,1], strides=[1,2,2,1], padding='SAME')"
   ]
  },
  {
   "cell_type": "code",
   "execution_count": 40,
   "metadata": {},
   "outputs": [],
   "source": [
    "#after the conv layer, full connect layer\n",
    "reshape = tf.reshape(pool2, [batch_size, -1])\n",
    "dim = reshape.get_shape()[1].value\n",
    "weight3 = variable_with_weight_loss(shape=[dim, 384], stddev=0.04, wl=0.004)\n",
    "bias3 = tf.Variable(tf.constant(0.1, shape=[384]))\n",
    "local3 = tf.nn.relu(tf.matmul(reshape, weight3)+bias3)"
   ]
  },
  {
   "cell_type": "code",
   "execution_count": 42,
   "metadata": {},
   "outputs": [],
   "source": [
    "#this is full connect layer, too\n",
    "weight4 = variable_with_weight_loss(shape=[384, 192], stddev=0.04, wl = 0.004)\n",
    "bias4 = tf.Variable(tf.constant(0.1, shape=[192]))\n",
    "local4 = tf.nn.relu(tf.matmul(local3, weight4) + bias4)"
   ]
  },
  {
   "cell_type": "code",
   "execution_count": 44,
   "metadata": {},
   "outputs": [],
   "source": [
    "#the last layer\n",
    "weight5 = variable_with_weight_loss(shape=[192, 10], stddev=1/192.0, wl=0.0)\n",
    "bias5 = tf.Variable(tf.constant(0.0, shape=[10]))\n",
    "logis = tf.add(tf.matmul(local4, weight5), bias5)"
   ]
  },
  {
   "cell_type": "code",
   "execution_count": 45,
   "metadata": {
    "collapsed": true
   },
   "outputs": [],
   "source": [
    "#loss\n",
    "def loss(logits, labels):\n",
    "    labels = tf.cast(labels, tf.int64)\n",
    "    cross_entropy = tf.nn.sparse_softmax_cross_entropy_with_logits(logits=logits, labels=labels, name='cross_entropy_per_example')\n",
    "    cross_entropy_mean = tf.reduce_mean(cross_entropy, name='cross_entropy')\n",
    "    tf.add_to_collection('losses', cross_entropy_mean)\n",
    "    \n",
    "    return tf.add_n(tf.get_collection('losses'), name='total_loss')\n"
   ]
  },
  {
   "cell_type": "code",
   "execution_count": 46,
   "metadata": {
    "collapsed": true
   },
   "outputs": [],
   "source": [
    "loss = loss(logis, label_holder)"
   ]
  },
  {
   "cell_type": "code",
   "execution_count": 47,
   "metadata": {
    "collapsed": true
   },
   "outputs": [],
   "source": [
    "#优化器选择AdamOptimizer\n",
    "train_op = tf.train.AdamOptimizer(1e-3).minimize(loss)"
   ]
  },
  {
   "cell_type": "code",
   "execution_count": 50,
   "metadata": {},
   "outputs": [],
   "source": [
    "#get top k result\n",
    "top_k_op = tf.nn.in_top_k(logis, label_holder, 1)"
   ]
  },
  {
   "cell_type": "code",
   "execution_count": 51,
   "metadata": {
    "collapsed": true
   },
   "outputs": [],
   "source": [
    "sess = tf.InteractiveSession()\n",
    "tf.global_variables_initializer().run()"
   ]
  },
  {
   "cell_type": "code",
   "execution_count": 53,
   "metadata": {},
   "outputs": [
    {
     "data": {
      "text/plain": [
       "[<Thread(Thread-4, started daemon 140031033341696)>,\n",
       " <Thread(Thread-5, started daemon 140031024948992)>,\n",
       " <Thread(Thread-6, started daemon 140031016556288)>,\n",
       " <Thread(Thread-7, started daemon 140031008163584)>,\n",
       " <Thread(Thread-8, started daemon 140030999770880)>,\n",
       " <Thread(Thread-9, started daemon 140030991378176)>,\n",
       " <Thread(Thread-10, started daemon 140030982985472)>,\n",
       " <Thread(Thread-11, started daemon 140030630688512)>,\n",
       " <Thread(Thread-12, started daemon 140030622295808)>,\n",
       " <Thread(Thread-13, started daemon 140030613903104)>,\n",
       " <Thread(Thread-14, started daemon 140030605510400)>,\n",
       " <Thread(Thread-15, started daemon 140030597117696)>,\n",
       " <Thread(Thread-16, started daemon 140030588724992)>,\n",
       " <Thread(Thread-17, started daemon 140030580332288)>,\n",
       " <Thread(Thread-18, started daemon 140030571939584)>,\n",
       " <Thread(Thread-19, started daemon 140030555154176)>,\n",
       " <Thread(Thread-20, started daemon 140030546761472)>,\n",
       " <Thread(Thread-21, started daemon 140030538368768)>,\n",
       " <Thread(Thread-22, started daemon 140030529976064)>,\n",
       " <Thread(Thread-23, started daemon 140030521583360)>,\n",
       " <Thread(Thread-24, started daemon 140030513190656)>,\n",
       " <Thread(Thread-25, started daemon 140030504797952)>,\n",
       " <Thread(Thread-26, started daemon 140030496405248)>,\n",
       " <Thread(Thread-27, started daemon 140030488012544)>,\n",
       " <Thread(Thread-28, started daemon 140030479619840)>,\n",
       " <Thread(Thread-29, started daemon 140030471227136)>,\n",
       " <Thread(Thread-30, started daemon 140030462834432)>,\n",
       " <Thread(Thread-31, started daemon 140030454441728)>,\n",
       " <Thread(Thread-32, started daemon 140030446049024)>,\n",
       " <Thread(Thread-33, started daemon 140030437656320)>,\n",
       " <Thread(Thread-34, started daemon 140030429263616)>,\n",
       " <Thread(Thread-35, started daemon 140030420870912)>,\n",
       " <Thread(Thread-36, started daemon 140030412478208)>,\n",
       " <Thread(Thread-37, started daemon 140030404085504)>]"
      ]
     },
     "execution_count": 53,
     "metadata": {},
     "output_type": "execute_result"
    }
   ],
   "source": [
    "tf.train.start_queue_runners()"
   ]
  },
  {
   "cell_type": "code",
   "execution_count": 67,
   "metadata": {},
   "outputs": [
    {
     "name": "stdout",
     "output_type": "stream",
     "text": [
      "step 0, loss=1.28 (79.9 example/sec; 1.601 sec/per_batch)\n",
      "step 50, loss=1.15 (130.3 example/sec; 0.983 sec/per_batch)\n",
      "step 100, loss=1.31 (123.6 example/sec; 1.035 sec/per_batch)\n",
      "step 150, loss=1.18 (124.4 example/sec; 1.029 sec/per_batch)\n",
      "step 200, loss=1.10 (132.2 example/sec; 0.969 sec/per_batch)\n",
      "step 250, loss=1.30 (128.2 example/sec; 0.998 sec/per_batch)\n",
      "step 300, loss=1.29 (111.8 example/sec; 1.145 sec/per_batch)\n",
      "step 350, loss=1.39 (124.6 example/sec; 1.027 sec/per_batch)\n",
      "step 400, loss=1.07 (132.0 example/sec; 0.969 sec/per_batch)\n",
      "step 450, loss=1.22 (120.6 example/sec; 1.061 sec/per_batch)\n",
      "step 500, loss=1.17 (132.9 example/sec; 0.963 sec/per_batch)\n",
      "step 550, loss=1.28 (121.5 example/sec; 1.053 sec/per_batch)\n",
      "step 600, loss=1.04 (129.7 example/sec; 0.987 sec/per_batch)\n",
      "step 650, loss=1.23 (117.8 example/sec; 1.086 sec/per_batch)\n",
      "step 700, loss=1.34 (131.9 example/sec; 0.970 sec/per_batch)\n",
      "step 750, loss=1.18 (131.3 example/sec; 0.975 sec/per_batch)\n",
      "step 800, loss=1.22 (130.6 example/sec; 0.980 sec/per_batch)\n",
      "step 850, loss=1.18 (127.5 example/sec; 1.004 sec/per_batch)\n",
      "step 900, loss=0.88 (75.4 example/sec; 1.698 sec/per_batch)\n",
      "step 950, loss=1.05 (125.2 example/sec; 1.022 sec/per_batch)\n",
      "step 1000, loss=0.97 (126.6 example/sec; 1.011 sec/per_batch)\n",
      "step 1050, loss=1.18 (125.2 example/sec; 1.022 sec/per_batch)\n",
      "step 1100, loss=1.06 (117.1 example/sec; 1.093 sec/per_batch)\n",
      "step 1150, loss=0.94 (126.2 example/sec; 1.014 sec/per_batch)\n",
      "step 1200, loss=0.97 (125.0 example/sec; 1.024 sec/per_batch)\n",
      "step 1250, loss=1.16 (126.5 example/sec; 1.012 sec/per_batch)\n",
      "step 1300, loss=1.10 (109.3 example/sec; 1.171 sec/per_batch)\n",
      "step 1350, loss=1.03 (125.1 example/sec; 1.023 sec/per_batch)\n",
      "step 1400, loss=1.17 (126.6 example/sec; 1.011 sec/per_batch)\n",
      "step 1450, loss=1.13 (126.5 example/sec; 1.012 sec/per_batch)\n",
      "step 1500, loss=0.98 (128.5 example/sec; 0.996 sec/per_batch)\n",
      "step 1550, loss=1.05 (127.9 example/sec; 1.001 sec/per_batch)\n",
      "step 1600, loss=1.19 (130.4 example/sec; 0.982 sec/per_batch)\n",
      "step 1650, loss=1.29 (130.0 example/sec; 0.985 sec/per_batch)\n",
      "step 1700, loss=0.98 (125.7 example/sec; 1.019 sec/per_batch)\n",
      "step 1750, loss=1.14 (119.7 example/sec; 1.069 sec/per_batch)\n",
      "step 1800, loss=0.87 (129.3 example/sec; 0.990 sec/per_batch)\n",
      "step 1850, loss=1.12 (65.3 example/sec; 1.959 sec/per_batch)\n",
      "step 1900, loss=1.00 (127.4 example/sec; 1.005 sec/per_batch)\n",
      "step 1950, loss=1.08 (125.4 example/sec; 1.021 sec/per_batch)\n",
      "step 2000, loss=1.08 (71.9 example/sec; 1.780 sec/per_batch)\n",
      "step 2050, loss=0.97 (76.5 example/sec; 1.673 sec/per_batch)\n",
      "step 2100, loss=1.03 (110.4 example/sec; 1.159 sec/per_batch)\n",
      "step 2150, loss=1.08 (126.7 example/sec; 1.010 sec/per_batch)\n",
      "step 2200, loss=0.86 (128.2 example/sec; 0.999 sec/per_batch)\n",
      "step 2250, loss=1.09 (128.2 example/sec; 0.998 sec/per_batch)\n",
      "step 2300, loss=1.06 (130.3 example/sec; 0.982 sec/per_batch)\n",
      "step 2350, loss=1.08 (128.6 example/sec; 0.996 sec/per_batch)\n",
      "step 2400, loss=1.07 (126.3 example/sec; 1.014 sec/per_batch)\n",
      "step 2450, loss=1.06 (83.6 example/sec; 1.532 sec/per_batch)\n",
      "step 2500, loss=1.21 (129.9 example/sec; 0.986 sec/per_batch)\n",
      "step 2550, loss=1.08 (127.9 example/sec; 1.001 sec/per_batch)\n",
      "step 2600, loss=1.20 (125.7 example/sec; 1.019 sec/per_batch)\n",
      "step 2650, loss=1.16 (100.5 example/sec; 1.274 sec/per_batch)\n",
      "step 2700, loss=0.94 (125.4 example/sec; 1.020 sec/per_batch)\n",
      "step 2750, loss=1.00 (132.1 example/sec; 0.969 sec/per_batch)\n",
      "step 2800, loss=1.22 (127.5 example/sec; 1.004 sec/per_batch)\n",
      "step 2850, loss=1.00 (129.1 example/sec; 0.992 sec/per_batch)\n",
      "step 2900, loss=1.09 (117.6 example/sec; 1.089 sec/per_batch)\n",
      "step 2950, loss=1.03 (130.9 example/sec; 0.978 sec/per_batch)\n",
      "step 3000, loss=1.02 (129.1 example/sec; 0.991 sec/per_batch)\n",
      "step 3050, loss=0.92 (92.5 example/sec; 1.383 sec/per_batch)\n",
      "step 3100, loss=0.86 (70.6 example/sec; 1.814 sec/per_batch)\n",
      "step 3150, loss=0.99 (120.1 example/sec; 1.066 sec/per_batch)\n",
      "step 3200, loss=0.96 (92.5 example/sec; 1.384 sec/per_batch)\n",
      "step 3250, loss=1.06 (104.0 example/sec; 1.231 sec/per_batch)\n",
      "step 3300, loss=0.93 (128.1 example/sec; 0.999 sec/per_batch)\n",
      "step 3350, loss=0.80 (125.2 example/sec; 1.022 sec/per_batch)\n",
      "step 3400, loss=1.21 (127.3 example/sec; 1.006 sec/per_batch)\n",
      "step 3450, loss=1.00 (127.8 example/sec; 1.002 sec/per_batch)\n",
      "step 3500, loss=0.90 (128.0 example/sec; 1.000 sec/per_batch)\n",
      "step 3550, loss=0.90 (129.0 example/sec; 0.992 sec/per_batch)\n",
      "step 3600, loss=1.02 (126.8 example/sec; 1.010 sec/per_batch)\n",
      "step 3650, loss=0.97 (130.1 example/sec; 0.984 sec/per_batch)\n",
      "step 3700, loss=1.02 (130.0 example/sec; 0.984 sec/per_batch)\n",
      "step 3750, loss=0.95 (66.2 example/sec; 1.933 sec/per_batch)\n",
      "step 3800, loss=1.05 (115.2 example/sec; 1.111 sec/per_batch)\n",
      "step 3850, loss=0.90 (132.2 example/sec; 0.968 sec/per_batch)\n",
      "step 3900, loss=0.85 (130.2 example/sec; 0.983 sec/per_batch)\n",
      "step 3950, loss=1.18 (131.2 example/sec; 0.976 sec/per_batch)\n"
     ]
    }
   ],
   "source": [
    "#begin to train\n",
    "max_step = 4000\n",
    "for step in range(max_step):\n",
    "    start_time = time.time()\n",
    "    image_batch, label_batch = sess.run([image_train, labels_train])\n",
    "    _, loss_value = sess.run([train_op, loss], feed_dict={image_holder:image_batch, label_holder:label_batch})\n",
    "    duration = time.time() - start_time\n",
    "    if step%50==0:\n",
    "        examples_per_sec = batch_size/duration\n",
    "        sec_per_batch = float(duration)\n",
    "        format_str = ('step %d, loss=%.2f (%.1f example/sec; %.3f sec/per_batch)')\n",
    "        print(format_str %(step, loss_value, examples_per_sec, sec_per_batch))"
   ]
  },
  {
   "cell_type": "code",
   "execution_count": 101,
   "metadata": {},
   "outputs": [
    {
     "name": "stdout",
     "output_type": "stream",
     "text": [
      "INFO:tensorflow:Restoring parameters from /data/1xiu/models//cifar/cifar_model\n"
     ]
    }
   ],
   "source": [
    "saver = tf.train.Saver()\n",
    "model_dir = \"/data/1xiu/models//cifar\"\n",
    "model_name = \"cifar_model\"\n",
    "if not os.path.exists(model_dir):\n",
    "    os.mkdir(model_dir)\n",
    "saver.save(sess,os.path.join(model_dir, model_name))\n",
    "\n",
    "saver.restore(sess, os.path.join(model_dir, model_name))"
   ]
  },
  {
   "cell_type": "code",
   "execution_count": 71,
   "metadata": {
    "collapsed": true
   },
   "outputs": [],
   "source": [
    "num_examples = 10000\n",
    "import math\n"
   ]
  },
  {
   "cell_type": "code",
   "execution_count": 64,
   "metadata": {},
   "outputs": [
    {
     "name": "stdout",
     "output_type": "stream",
     "text": [
      "(10000, 128, 78)\n",
      "80\n",
      "901\n",
      "1713\n",
      "2517\n",
      "3362\n",
      "4169\n",
      "4974\n",
      "5770\n"
     ]
    }
   ],
   "source": [
    "num_iter = int(math.ceil(num_examples/batch_size))\n",
    "print(num_examples, batch_size, num_iter)\n",
    "true_count=0\n",
    "total_sample_count = num_iter*batch_size\n",
    "step = 0\n",
    "while step<num_iter:\n",
    "    image_batch, label_batch = sess.run([image_test, labels_test])\n",
    "    predictions = sess.run([top_k_op], feed_dict={image_holder:image_batch, label_holder:label_batch})\n",
    "    true_count += np.sum(predictions)\n",
    "    if step %10==0:\n",
    "        print true_count\n",
    "    step += 1"
   ]
  },
  {
   "cell_type": "code",
   "execution_count": 97,
   "metadata": {},
   "outputs": [
    {
     "name": "stdout",
     "output_type": "stream",
     "text": [
      "precision @ =0.635\n"
     ]
    }
   ],
   "source": [
    "precision = true_count*1.0 / total_sample_count\n",
    "print('precision @ =%.3f' %precision)"
   ]
  },
  {
   "cell_type": "code",
   "execution_count": null,
   "metadata": {},
   "outputs": [],
   "source": []
  },
  {
   "cell_type": "code",
   "execution_count": null,
   "metadata": {
    "collapsed": true
   },
   "outputs": [],
   "source": []
  }
 ],
 "metadata": {
  "kernelspec": {
   "display_name": "Python 2",
   "language": "python",
   "name": "python2"
  },
  "language_info": {
   "codemirror_mode": {
    "name": "ipython",
    "version": 2
   },
   "file_extension": ".py",
   "mimetype": "text/x-python",
   "name": "python",
   "nbconvert_exporter": "python",
   "pygments_lexer": "ipython2",
   "version": "2.7.13"
  }
 },
 "nbformat": 4,
 "nbformat_minor": 2
}
