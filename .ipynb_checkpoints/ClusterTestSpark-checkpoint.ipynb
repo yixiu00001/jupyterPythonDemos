{
 "cells": [
  {
   "cell_type": "code",
   "execution_count": 1,
   "metadata": {
    "collapsed": true
   },
   "outputs": [],
   "source": [
    "from pyspark import  SparkContext,SparkConf\n",
    "sc = SparkContext( )"
   ]
  },
  {
   "cell_type": "code",
   "execution_count": 14,
   "metadata": {},
   "outputs": [
    {
     "name": "stdout",
     "output_type": "stream",
     "text": [
      "1682\n",
      "1|Toy Story (1995)|01-Jan-1995||http://us.imdb.com/M/title-exact?Toy%20Story%20(1995)|0|0|0|1|1|1|0|0|0|0|0|0|0|0|0|0|0|0|0\n",
      "[u'Toy Story (1995)', u'GoldenEye (1995)', u'Four Rooms (1995)', u'Get Shorty (1995)', u'Copycat (1995)']\n",
      "[[u'0', u'0', u'0', u'1', u'1', u'1', u'0', u'0', u'0', u'0', u'0', u'0', u'0', u'0', u'0', u'0', u'0', u'0', u'0'], [u'0', u'1', u'1', u'0', u'0', u'0', u'0', u'0', u'0', u'0', u'0', u'0', u'0', u'0', u'0', u'0', u'1', u'0', u'0'], [u'0', u'0', u'0', u'0', u'0', u'0', u'0', u'0', u'0', u'0', u'0', u'0', u'0', u'0', u'0', u'0', u'1', u'0', u'0'], [u'0', u'1', u'0', u'0', u'0', u'1', u'0', u'0', u'1', u'0', u'0', u'0', u'0', u'0', u'0', u'0', u'0', u'0', u'0'], [u'0', u'0', u'0', u'0', u'0', u'0', u'1', u'0', u'1', u'0', u'0', u'0', u'0', u'0', u'0', u'0', u'1', u'0', u'0']]\n"
     ]
    }
   ],
   "source": [
    "#电影数据\n",
    "#1|Toy Story (1995)|01-Jan-1995||http://us.imdb.com/M/title-exact?Toy%20Story%20(1995)|0|0|0|1|1|1|0|0|0|0|0|0|0|0|0|0|0|0|0\n",
    "movies = sc.textFile(\"/data/ml-100k/u.item\")\n",
    "print movies.count()\n",
    "print movies.first()\n",
    "movies_fields = movies.map(lambda item: item.split('|'))\n",
    "movies_title = movies_fields.map(lambda item:item[1])\n",
    "movies_genre = movies_fields.map(lambda item:item[5:])\n",
    "print movies_title.take(5)\n",
    "print movies_genre.take(5)"
   ]
  },
  {
   "cell_type": "code",
   "execution_count": 36,
   "metadata": {},
   "outputs": [
    {
     "name": "stdout",
     "output_type": "stream",
     "text": [
      "[u'unknown|0', u'Action|1', u'Adventure|2', u'Animation|3', u\"Children's|4\"]\n",
      "20\n"
     ]
    }
   ],
   "source": [
    "genres = sc.textFile('/data/ml-100k/u.genre')\n",
    "print genres.take(5)\n",
    "print genres.count()"
   ]
  },
  {
   "cell_type": "code",
   "execution_count": 37,
   "metadata": {},
   "outputs": [
    {
     "name": "stdout",
     "output_type": "stream",
     "text": [
      "{u'11': u'Horror', u'10': u'Film-Noir', u'13': u'Mystery', u'12': u'Musical', u'15': u'Sci-Fi', u'14': u'Romance', u'17': u'War', u'16': u'Thriller', u'18': u'Western', u'1': u'Action', u'0': u'unknown', u'3': u'Animation', u'2': u'Adventure', u'5': u'Comedy', u'4': u\"Children's\", u'7': u'Documentary', u'6': u'Crime', u'9': u'Fantasy', u'8': u'Drama'}\n"
     ]
    }
   ],
   "source": [
    "genre_map = genres.filter(lambda genre:len(genre)>0).\\\n",
    "            map(lambda genre:genre.split('|')).\\\n",
    "            map(lambda genre:(genre[1], genre[0])).collectAsMap()\n",
    "print genre_map"
   ]
  },
  {
   "cell_type": "code",
   "execution_count": 50,
   "metadata": {},
   "outputs": [
    {
     "name": "stdout",
     "output_type": "stream",
     "text": [
      "前5部电影的标题和相应的题材类型: [(1, u\"Toy Story (1995),Animation,Children's,Comedy\"), (2, u'GoldenEye (1995),Action,Adventure,Thriller'), (3, u'Four Rooms (1995),Thriller'), (4, u'Get Shorty (1995),Action,Comedy,Drama'), (5, u'Copycat (1995),Crime,Drama,Thriller')]\n"
     ]
    }
   ],
   "source": [
    "def func(rdd):\n",
    "    genres = rdd[5:]     #提取题材特征\n",
    "    genres_assigned = zip(genres, range(len(genres)))\n",
    "    index = []           #存储题材特征数值为1的特征索引号\n",
    "    for genre,idx in genres_assigned:\n",
    "        if genre=='1':\n",
    "            index.append(idx)\n",
    "    print \"index=\",index\n",
    "    index_val = [genre_map[str(i)] for i in index]   #根据编码字典找出索引的相应题材名\n",
    "    index_val_str = ','.join(index_val)\n",
    "    return (int(rdd[0]),rdd[1]+','+index_val_str)\n",
    "titles_and_genres = movies.map(lambda x: x.split('|')).map(lambda x:func(x))\n",
    "print '前5部电影的标题和相应的题材类型:',titles_and_genres.take(5)\n"
   ]
  },
  {
   "cell_type": "code",
   "execution_count": 12,
   "metadata": {},
   "outputs": [
    {
     "name": "stdout",
     "output_type": "stream",
     "text": [
      "Movie type dict: {u'Mystery': u'13', u'Romance': u'14', u'Sci-Fi': u'15', u'Fantasy': u'9', u'unknown': u'0', u'Horror': u'11', u'Film-Noir': u'10', u'Crime': u'6', u'Drama': u'8', u\"Children's\": u'4', u'Animation': u'3', u'War': u'17', u'Adventure': u'2', u'Action': u'1', u'Comedy': u'5', u'Documentary': u'7', u'Musical': u'12', u'Thriller': u'16', u'Western': u'18'}\n"
     ]
    }
   ],
   "source": [
    "print 'Movie type dict:', genres_map"
   ]
  },
  {
   "cell_type": "code",
   "execution_count": 52,
   "metadata": {},
   "outputs": [
    {
     "name": "stdout",
     "output_type": "stream",
     "text": [
      "[(1, u\"Toy Story (1995),Animation,Children's,Comedy\"), (2, u'GoldenEye (1995),Action,Adventure,Thriller'), (3, u'Four Rooms (1995),Thriller'), (4, u'Get Shorty (1995),Action,Comedy,Drama'), (5, u'Copycat (1995),Crime,Drama,Thriller')]\n"
     ]
    }
   ],
   "source": [
    "def getName(rdd) :\n",
    "    genre = rdd[5:]\n",
    "    genre_assigned = zip(genre, range(len(genre)))\n",
    "    index = []           #存储题材特征数值为1的特征索引号\n",
    "    for genre,idx in genre_assigned:\n",
    "        if genre=='1':\n",
    "            index.append(idx)\n",
    "    index_val = [genre_map[str(i)] for i in index]\n",
    "    index_val_str = ','.join(index_val)\n",
    "    return (int(rdd[0]),rdd[1]+','+index_val_str)\n",
    "title_and_genre = movies_fields.map(lambda item:getName(item))\n",
    "print title_and_genre.take(5)"
   ]
  },
  {
   "cell_type": "code",
   "execution_count": 53,
   "metadata": {},
   "outputs": [
    {
     "name": "stdout",
     "output_type": "stream",
     "text": [
      "raw data sample: [[u'196', u'242', u'3', u'881250949'], [u'186', u'302', u'3', u'891717742'], [u'22', u'377', u'1', u'878887116']]\n",
      "rating data sample: [Rating(user=196, product=242, rating=3.0), Rating(user=186, product=302, rating=3.0), Rating(user=22, product=377, rating=1.0)]\n"
     ]
    }
   ],
   "source": [
    "from pyspark.mllib.recommendation import ALS\n",
    "from pyspark.mllib.recommendation import Rating\n",
    "\n",
    "raw_data = sc.textFile(\"/data/ml-100k/u.data\")\n",
    "#数据集u.data中四个字段分别表示用户ID, 电影ID, 评分, 时间戳\n",
    "print 'raw data sample:', raw_data.map(lambda x : x.split('\\t')).take(3)\n",
    "\n",
    "raw_ratings = raw_data.map(lambda x:x.split('\\t')[:3])\n",
    "ratings = raw_ratings.map(lambda x: Rating(x[0], x[1], x[2]))\n",
    "ratings.cache()\n",
    "print 'rating data sample:',ratings.take(3)\n",
    "\n",
    "#训练推荐模型\n",
    "#userID, productID, rating\n",
    "als_model = ALS.train(ratings,50,5,0.1)"
   ]
  },
  {
   "cell_type": "code",
   "execution_count": 54,
   "metadata": {},
   "outputs": [
    {
     "name": "stdout",
     "output_type": "stream",
     "text": [
      "productFeatures的第一条数据: [(4, array('d', [0.19655166566371918, 0.5017805099487305, -0.27813491225242615, -0.5577942132949829, -0.22229744493961334, -0.16663694381713867, -0.1522732526063919, -0.2086009532213211, 0.09603911638259888, 0.07360763847827911, 0.1318025141954422, -0.21934661269187927, 0.45590341091156006, -0.10585910081863403, 0.031394410878419876, 0.027216818183660507, -0.21804353594779968, 0.1088157519698143, -0.0896458774805069, -0.3854692578315735, -0.08638768643140793, 0.022249780595302582, -0.04849100112915039, 0.2646697759628296, -0.39075034856796265, -0.20442251861095428, 0.0044478364288806915, 0.24971115589141846, 0.027089377865195274, -0.02518525905907154, -0.024255482479929924, 0.008030221797525883, 0.06813853234052658, 0.3695041835308075, 0.12529726326465607, -0.10244365781545639, -0.47676658630371094, 0.012991482391953468, -0.07528916746377945, 0.4552150368690491, -0.5811066031455994, -0.39189743995666504, 0.3185352683067322, 0.014328495599329472, 0.2943682372570038, -0.02727298066020012, 0.025368990376591682, -0.031231941655278206, -0.11418257653713226, -0.3697681128978729]))]\n",
      "movie_factors的第一条数据: (4, DenseVector([0.1966, 0.5018, -0.2781, -0.5578, -0.2223, -0.1666, -0.1523, -0.2086, 0.096, 0.0736, 0.1318, -0.2193, 0.4559, -0.1059, 0.0314, 0.0272, -0.218, 0.1088, -0.0896, -0.3855, -0.0864, 0.0222, -0.0485, 0.2647, -0.3908, -0.2044, 0.0044, 0.2497, 0.0271, -0.0252, -0.0243, 0.008, 0.0681, 0.3695, 0.1253, -0.1024, -0.4768, 0.013, -0.0753, 0.4552, -0.5811, -0.3919, 0.3185, 0.0143, 0.2944, -0.0273, 0.0254, -0.0312, -0.1142, -0.3698]))\n",
      "user_factors的第一条数据: (4, DenseVector([-0.0585, 1.1432, -0.3748, -0.544, -0.656, -0.3389, -0.0039, -0.819, 0.466, -0.1065, -0.162, -0.7092, 0.1186, 0.1004, 0.1885, -0.4171, -0.1312, -0.0199, -0.445, -0.2314, -0.1141, -0.7282, 0.0295, -0.0234, -0.5192, -0.4386, 0.1344, 0.415, 0.0363, -0.546, -0.5484, -0.1476, -0.2064, 0.5494, 0.496, -0.1351, -0.7697, -0.2806, 0.4934, 0.4152, -0.2959, -0.3746, 0.4256, 0.5503, 0.1433, -0.18, 0.551, -0.289, -0.2479, -0.2279]))\n"
     ]
    }
   ],
   "source": [
    "from pyspark.mllib.linalg import Vectors\n",
    "\n",
    "print 'productFeatures的第一条数据:',als_model.productFeatures().take(1)\n",
    "\n",
    "movie_factors = als_model.productFeatures().map(lambda (id,factor): (id,Vectors.dense(factor)))\n",
    "print 'movie_factors的第一条数据:',movie_factors.first()\n",
    "movie_vectors = movie_factors.map(lambda (id,vec):vec)\n",
    "\n",
    "user_factors = als_model.userFeatures().map(lambda (id,factor):(id,Vectors.dense(factor)))\n",
    "print 'user_factors的第一条数据:',user_factors.first()\n",
    "user_vectors = user_factors.map(lambda (id, vec):vec)"
   ]
  },
  {
   "cell_type": "code",
   "execution_count": 55,
   "metadata": {},
   "outputs": [
    {
     "name": "stderr",
     "output_type": "stream",
     "text": [
      "/usr/hdp/2.5.0.0-1245/spark2/python/pyspark/mllib/clustering.py:347: UserWarning: The param `runs` has no effect since Spark 2.0.0.\n",
      "  warnings.warn(\"The param `runs` has no effect since Spark 2.0.0.\")\n"
     ]
    },
    {
     "name": "stdout",
     "output_type": "stream",
     "text": [
      "对前十个样本的预测标签为:3,4,3,3,4,3,1,3,0,0\n"
     ]
    }
   ],
   "source": [
    "from pyspark.mllib.clustering import KMeans\n",
    "num_clusters = 5\n",
    "num_iterations = 20\n",
    "num_runs =3\n",
    "movie_cluster_model = KMeans.train(movie_vectors,num_clusters, num_iterations, num_runs)\n",
    "movie_cluster_model_coverged = KMeans.train(movie_vectors,num_clusters,100)\n",
    "user_cluster_model = KMeans.train(user_vectors,num_clusters,num_iterations, num_runs)\n",
    "predictions = movie_cluster_model.predict(movie_vectors)\n",
    "print '对前十个样本的预测标签为:'+\",\".join([str(i) for i in predictions.take(10)])"
   ]
  },
  {
   "cell_type": "code",
   "execution_count": null,
   "metadata": {
    "collapsed": true
   },
   "outputs": [],
   "source": [
    "print 'movie_factors的第一条数据:',movie_factors.first()\n",
    "print '========================'\n",
    "print 'titles_and_genres的第一条数据:',titles_and_genres.first()\n",
    "\n",
    "titles_factors = titles_and_genres.join(movie_factors)\n",
    "print '========================'\n",
    "print 'titles_factors的第一条数据:',titles_factors.first()"
   ]
  },
  {
   "cell_type": "code",
   "execution_count": 56,
   "metadata": {},
   "outputs": [
    {
     "ename": "NameError",
     "evalue": "name 'titles_factors' is not defined",
     "output_type": "error",
     "traceback": [
      "\u001b[0;31m\u001b[0m",
      "\u001b[0;31mNameError\u001b[0mTraceback (most recent call last)",
      "\u001b[0;32m<ipython-input-56-0c0cd408a1ce>\u001b[0m in \u001b[0;36m<module>\u001b[0;34m()\u001b[0m\n\u001b[1;32m      7\u001b[0m     \u001b[0;32mreturn\u001b[0m \u001b[0;34mu'电影'\u001b[0m \u001b[0;34m+\u001b[0m \u001b[0mstr\u001b[0m\u001b[0;34m(\u001b[0m\u001b[0mid\u001b[0m\u001b[0;34m)\u001b[0m \u001b[0;34m+\u001b[0m \u001b[0;34mu'的题材类型是'\u001b[0m \u001b[0;34m+\u001b[0m \u001b[0mname_genres\u001b[0m \u001b[0;34m+\u001b[0m \u001b[0;34m','\u001b[0m \u001b[0;34m+\u001b[0m \u001b[0;34mu'聚类模型预测的标签是'\u001b[0m \u001b[0;34m+\u001b[0m \u001b[0mstr\u001b[0m\u001b[0;34m(\u001b[0m\u001b[0mpred\u001b[0m\u001b[0;34m)\u001b[0m\u001b[0;34m+\u001b[0m \u001b[0;34m','\u001b[0m \u001b[0;34m+\u001b[0m            \u001b[0;34mu'与聚类所属类别中心的距离是'\u001b[0m \u001b[0;34m+\u001b[0m \u001b[0mstr\u001b[0m\u001b[0;34m(\u001b[0m\u001b[0mdist\u001b[0m\u001b[0;34m)\u001b[0m\u001b[0;34m\u001b[0m\u001b[0m\n\u001b[1;32m      8\u001b[0m \u001b[0;34m\u001b[0m\u001b[0m\n\u001b[0;32m----> 9\u001b[0;31m \u001b[0mmovies_assigned\u001b[0m \u001b[0;34m=\u001b[0m \u001b[0mtitles_factors\u001b[0m\u001b[0;34m.\u001b[0m\u001b[0mmap\u001b[0m\u001b[0;34m(\u001b[0m\u001b[0;32mlambda\u001b[0m \u001b[0mx\u001b[0m\u001b[0;34m:\u001b[0m\u001b[0mfunc2\u001b[0m\u001b[0;34m(\u001b[0m\u001b[0mx\u001b[0m\u001b[0;34m)\u001b[0m\u001b[0;34m)\u001b[0m\u001b[0;34m\u001b[0m\u001b[0m\n\u001b[0m\u001b[1;32m     10\u001b[0m \u001b[0;32mfor\u001b[0m \u001b[0mi\u001b[0m \u001b[0;32min\u001b[0m \u001b[0mmovies_assigned\u001b[0m\u001b[0;34m.\u001b[0m\u001b[0mtake\u001b[0m\u001b[0;34m(\u001b[0m\u001b[0;36m5\u001b[0m\u001b[0;34m)\u001b[0m\u001b[0;34m:\u001b[0m\u001b[0;34m\u001b[0m\u001b[0m\n\u001b[1;32m     11\u001b[0m     \u001b[0;32mprint\u001b[0m \u001b[0mi\u001b[0m\u001b[0;34m\u001b[0m\u001b[0m\n",
      "\u001b[0;31mNameError\u001b[0m: name 'titles_factors' is not defined"
     ]
    }
   ],
   "source": [
    "def func2(rdd):\n",
    "    id,(name_genres,vec) = rdd\n",
    "    pred = movie_cluster_model.predict(vec)\n",
    "    cluster_center = movie_cluster_model.clusterCenters[pred]\n",
    "    cluster_center_vec = Vectors.dense(cluster_center)\n",
    "    dist = vec.squared_distance(cluster_center_vec)\n",
    "    return u'电影' + str(id) + u'的题材类型是' + name_genres + ',' + u'聚类模型预测的标签是' + str(pred)+ ',' + \\\n",
    "           u'与聚类所属类别中心的距离是' + str(dist)\n",
    "\n",
    "movies_assigned = titles_factors.map(lambda x:func2(x))  \n",
    "for i in movies_assigned.take(5):\n",
    "    print i"
   ]
  },
  {
   "cell_type": "code",
   "execution_count": null,
   "metadata": {
    "collapsed": true
   },
   "outputs": [],
   "source": []
  }
 ],
 "metadata": {
  "kernelspec": {
   "display_name": "Python 2",
   "language": "python",
   "name": "python2"
  },
  "language_info": {
   "codemirror_mode": {
    "name": "ipython",
    "version": 2
   },
   "file_extension": ".py",
   "mimetype": "text/x-python",
   "name": "python",
   "nbconvert_exporter": "python",
   "pygments_lexer": "ipython2",
   "version": "2.7.13"
  }
 },
 "nbformat": 4,
 "nbformat_minor": 2
}
