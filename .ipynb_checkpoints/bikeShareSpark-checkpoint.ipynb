{
 "cells": [
  {
   "cell_type": "code",
   "execution_count": 1,
   "metadata": {
    "collapsed": true
   },
   "outputs": [],
   "source": [
    "from pyspark import  SparkContext,SparkConf\n",
    "sc = SparkContext( )"
   ]
  },
  {
   "cell_type": "code",
   "execution_count": 32,
   "metadata": {},
   "outputs": [
    {
     "name": "stdout",
     "output_type": "stream",
     "text": [
      "[[u'1', u'2011-01-01', u'1', u'0', u'1', u'0', u'0', u'6', u'0', u'1', u'0.24', u'0.2879', u'0.81', u'0', u'3', u'13', u'16'], [u'2', u'2011-01-01', u'1', u'0', u'1', u'1', u'0', u'6', u'0', u'1', u'0.22', u'0.2727', u'0.8', u'0', u'8', u'32', u'40']]\n",
      "17379\n"
     ]
    }
   ],
   "source": [
    " #instant: record index\n",
    "#- dteday : date\n",
    "#- season : season (1:springer, 2:summer, 3:fall, 4:winter)\n",
    "#- yr : year (0: 2011, 1:2012)\n",
    "#- mnth : month ( 1 to 12)\n",
    "#- hr : hour (0 to 23)\n",
    "#- holiday : weather day is holiday or not (extracted from http://dchr.dc.gov/page/holiday-schedule)\n",
    "#- weekday : day of the week\n",
    "#- workingday : if day is neither weekend nor holiday is 1, otherwise is 0.\n",
    "#+ weathersit : \n",
    "#- 1: Clear, Few clouds, Partly cloudy, Partly cloudy\n",
    "#- 2: Mist + Cloudy, Mist + Broken clouds, Mist + Few clouds, Mist\n",
    "#- 3: Light Snow, Light Rain + Thunderstorm + Scattered clouds, Light Rain + Scattered clouds\n",
    "#- 4: Heavy Rain + Ice Pallets + Thunderstorm + Mist, Snow + Fog\n",
    "#- temp : Normalized temperature in Celsius. The values are divided to 41 (max)\n",
    "#- atemp: Normalized feeling temperature in Celsius. The values are divided to 50 (max)\n",
    "#- hum: Normalized humidity. The values are divided to 100 (max)\n",
    "#- windspeed: Normalized wind speed. The values are divided to 67 (max)\n",
    "#- casual: count of casual users\n",
    "#- registered: count of registered users\n",
    "#- cnt: count of total rental bikes including both casual and registered-\n",
    "rawData = sc.textFile('/data/bike-sharing/hour_noheader.csv')\n",
    "records = rawData.map(lambda x: x.split(','))\n",
    "print records.take(2)\n",
    "print rawData.count()"
   ]
  },
  {
   "cell_type": "code",
   "execution_count": 3,
   "metadata": {},
   "outputs": [
    {
     "data": {
      "text/plain": [
       "PythonRDD[4] at RDD at PythonRDD.scala:48"
      ]
     },
     "execution_count": 3,
     "metadata": {},
     "output_type": "execute_result"
    }
   ],
   "source": [
    "records.cache()\n"
   ]
  },
  {
   "cell_type": "code",
   "execution_count": 5,
   "metadata": {},
   "outputs": [
    {
     "name": "stdout",
     "output_type": "stream",
     "text": [
      "{u'1': 0, u'3': 1, u'2': 2, u'4': 3}\n"
     ]
    }
   ],
   "source": [
    "#首先将第idx列的特征值去重，然后对每个值使用zipWithIndex函数映射到一个唯一的索引，这样就组成了一个RDD的键值映射，键是变量，值是索引。\n",
    "def get_mapping(rdd, idx):\n",
    "    return rdd.map(lambda fields: fields[idx]).distinct().zipWithIndex().collectAsMap()\n",
    "print get_mapping(records,2)"
   ]
  },
  {
   "cell_type": "code",
   "execution_count": 38,
   "metadata": {},
   "outputs": [
    {
     "name": "stdout",
     "output_type": "stream",
     "text": [
      "[{u'1': 0, u'3': 1, u'2': 2, u'4': 3}, {u'1': 0, u'0': 1}, {u'11': 0, u'10': 6, u'12': 7, u'1': 1, u'3': 2, u'2': 8, u'5': 3, u'4': 9, u'7': 4, u'6': 10, u'9': 5, u'8': 11}, {u'20': 2, u'21': 14, u'22': 4, u'23': 15, u'1': 6, u'0': 18, u'3': 7, u'2': 19, u'5': 8, u'4': 20, u'7': 9, u'6': 21, u'9': 10, u'8': 22, u'11': 0, u'10': 12, u'13': 1, u'12': 13, u'15': 11, u'14': 23, u'17': 3, u'16': 17, u'19': 5, u'18': 16}, {u'1': 0, u'0': 1}, {u'1': 0, u'0': 3, u'3': 1, u'2': 4, u'5': 2, u'4': 5, u'6': 6}, {u'1': 0, u'0': 1}, {u'1': 0, u'3': 1, u'2': 2, u'4': 3}]\n",
      "57\n",
      "[4, 2, 12, 24, 2, 7, 2, 4]\n"
     ]
    }
   ],
   "source": [
    "mappings = [get_mapping(records, i) for i in range(2,10)] \n",
    "print mappings\n",
    "#map(len,[i for i in mappings])对列表中的数据，计算和[4, 2, 12, 24, 2, 7, 2, 4]\n",
    "cat_len = sum(map(len,[i for i in mappings]))  \n",
    "print cat_len"
   ]
  },
  {
   "cell_type": "code",
   "execution_count": 50,
   "metadata": {
    "collapsed": true
   },
   "outputs": [],
   "source": [
    "from pyspark.mllib.regression import LabeledPoint\n",
    "import numpy as np\n",
    "\n",
    "def extract_features(record): \n",
    "    cat_vec = np.zeros(cat_len) \n",
    "    #print \"recode\",record\n",
    "    step = 0\n",
    "    for i,raw_feature in enumerate(record[2:9]):\n",
    "        print i,raw_feature\n",
    "        dict_code = mappings[i]\n",
    "        index = dict_code[raw_feature]\n",
    "        cat_vec[index+step] = 1\n",
    "        step = step+len(dict_code)\n",
    "    num_vec = np.array([float(raw_feature) for raw_feature in record[10:14]])\n",
    "    #将两份特征组合起来\n",
    "    return np.concatenate((cat_vec, num_vec))\n",
    "\n",
    "def extract_label(record):\n",
    "    return float(record[-1])\n",
    "\n"
   ]
  },
  {
   "cell_type": "code",
   "execution_count": 51,
   "metadata": {},
   "outputs": [
    {
     "name": "stdout",
     "output_type": "stream",
     "text": [
      "(16.0,[1.0,0.0,0.0,0.0,0.0,1.0,0.0,1.0,0.0,0.0,0.0,0.0,0.0,0.0,0.0,0.0,0.0,0.0,0.0,0.0,0.0,0.0,0.0,0.0,0.0,0.0,0.0,0.0,0.0,0.0,0.0,0.0,0.0,0.0,0.0,0.0,1.0,0.0,0.0,0.0,0.0,0.0,0.0,1.0,0.0,0.0,0.0,0.0,0.0,0.0,1.0,0.0,1.0,0.0,0.0,0.0,0.0,0.24,0.2879,0.81,0.0])\n"
     ]
    }
   ],
   "source": [
    "#point = records.first()\n",
    "#print extract_label(point),extract_features(point)\n",
    "data = records.map(lambda point: LabeledPoint(extract_label(point),extract_features(point)))\n",
    "first_point = data.first()\n",
    "print first_point\n"
   ]
  },
  {
   "cell_type": "code",
   "execution_count": 52,
   "metadata": {},
   "outputs": [
    {
     "name": "stdout",
     "output_type": "stream",
     "text": [
      "决策树特征向量: [1.0,0.0,1.0,0.0,0.0,6.0,0.0,1.0,0.24,0.2879,0.81,0.0]\n",
      "决策树特征向量长度: 12\n"
     ]
    }
   ],
   "source": [
    "def extract_features_dt(record):\n",
    "    return np.array(map(float, record[2:14]))\n",
    "data_dt = records.map(lambda point: LabeledPoint(extract_label(point), extract_features_dt(point)))\n",
    "first_point_dt = data_dt.first()\n",
    "print '决策树特征向量: '+str(first_point_dt.features)\n",
    "print '决策树特征向量长度: '+str(len(first_point_dt.features))"
   ]
  },
  {
   "cell_type": "code",
   "execution_count": 25,
   "metadata": {},
   "outputs": [
    {
     "name": "stdout",
     "output_type": "stream",
     "text": [
      "线性回归模型对前5个样本的预测值: [(16.0, 117.89250386724846), (40.0, 116.2249612319211), (32.0, 116.02369145779235), (13.0, 115.67088016754433), (1.0, 115.56315650834317)]\n"
     ]
    }
   ],
   "source": [
    "from pyspark.mllib.regression import LinearRegressionWithSGD\n",
    "from pyspark.mllib.tree import DecisionTree\n",
    "#训练回归模型\n",
    "linear_model = LinearRegressionWithSGD.train(data, iterations=10, step=0.1, intercept =False)\n",
    "true_vs_predicted = data.map(lambda point:(point.label,linear_model.predict(point.features)))\n",
    "print '线性回归模型对前5个样本的预测值: '+ str(true_vs_predicted.take(5))"
   ]
  },
  {
   "cell_type": "code",
   "execution_count": 29,
   "metadata": {},
   "outputs": [
    {
     "name": "stdout",
     "output_type": "stream",
     "text": [
      "predicted: [(16.0, 54.913223140495866), (40.0, 54.913223140495866), (32.0, 53.171052631578945), (13.0, 14.284023668639053), (1.0, 14.284023668639053)]\n",
      "depth: 5\n",
      "leaves: 63\n"
     ]
    }
   ],
   "source": [
    "#训练决策树回归模型\n",
    "de_model = DecisionTree.trainRegressor(data_dt,{})\n",
    "preds = de_model.predict(data_dt.map(lambda p: p.features))\n",
    "real = data_dt.map(lambda p:p.label)\n",
    "true_vs_predicted_dt = real.zip(preds)\n",
    "print 'predicted: '+str(true_vs_predicted_dt.take(5)) \n",
    "print 'depth: ' + str(de_model.depth()) \n",
    "print 'leaves: '+str(de_model.numNodes())"
   ]
  },
  {
   "cell_type": "code",
   "execution_count": 57,
   "metadata": {},
   "outputs": [],
   "source": [
    "def squared_error(actual, pred): \n",
    "    return (pred-actual)**2 "
   ]
  },
  {
   "cell_type": "code",
   "execution_count": 58,
   "metadata": {
    "collapsed": true
   },
   "outputs": [],
   "source": [
    "def abs_error(actual, pred): \n",
    "    return np.abs(pred-actual)"
   ]
  },
  {
   "cell_type": "code",
   "execution_count": 59,
   "metadata": {
    "collapsed": true
   },
   "outputs": [],
   "source": [
    "def squared_log_error(pred, actual): \n",
    "    return (np.log(pred+1)-np.log(actual+1))**2"
   ]
  },
  {
   "cell_type": "code",
   "execution_count": 61,
   "metadata": {},
   "outputs": [
    {
     "name": "stdout",
     "output_type": "stream",
     "text": [
      "均方误差： 30679.4538628\n",
      "平均绝对误差： 130.642876651\n",
      "均方根对数误差： 1.46533982015\n"
     ]
    }
   ],
   "source": [
    "mse = true_vs_predicted.map(lambda (t, p): squared_error(t, p)).mean() \n",
    "mae = true_vs_predicted.map(lambda (t, p): abs_error(t, p)).mean() \n",
    "rmsle = np.sqrt(true_vs_predicted.map(lambda (t, p): squared_log_error(t, p)).mean()) \n",
    "print \"均方误差：\", mse\n",
    "print \"平均绝对误差：\", mae\n",
    "print \"均方根对数误差：\", rmsle"
   ]
  },
  {
   "cell_type": "code",
   "execution_count": 62,
   "metadata": {},
   "outputs": [
    {
     "name": "stdout",
     "output_type": "stream",
     "text": [
      "Decision Tree - Mean Squared Error: 11611.4860\n",
      "Decision Tree - Mean Absolute Error: 71.1502\n",
      "Decision Tree - Root Mean Squared Log Error: 0.6251\n"
     ]
    }
   ],
   "source": [
    "mse_dt = true_vs_predicted_dt.map(lambda (t, p): squared_error(t, p)).mean()\n",
    "mae_dt = true_vs_predicted_dt.map(lambda (t, p): abs_error(t, p)).mean()\n",
    "rmsle_dt = np.sqrt(true_vs_predicted_dt.map(lambda (t, p): squared_log_error(t, p)).mean())\n",
    "print 'Decision Tree - Mean Squared Error: %2.4f' % mse_dt\n",
    "print 'Decision Tree - Mean Absolute Error: %2.4f' % mae_dt\n",
    "print 'Decision Tree - Root Mean Squared Log Error: %2.4f' %rmsle_dt"
   ]
  },
  {
   "cell_type": "code",
   "execution_count": 66,
   "metadata": {},
   "outputs": [],
   "source": [
    " %matplotlib inline\n",
    "import matplotlib\n",
    "from matplotlib.pyplot import hist\n",
    "import numpy as np \n",
    "import matplotlib.pyplot as plt \n",
    "#自行车被租的次数\n",
    "targets = records.map(lambda r: float(r[-1])).collect() \n",
    "hist(targets, bins=40, color='lightblue', normed=True) \n",
    "fig = matplotlib.pyplot.gcf() \n",
    "fig.set_size_inches(12, 6)\n",
    "plt.show()"
   ]
  },
  {
   "cell_type": "code",
   "execution_count": 70,
   "metadata": {},
   "outputs": [
    {
     "data": {
      "image/png": "[encoded data removed]",
      "text/plain": [
       "<matplotlib.figure.Figure at 0x7f54cee5be50>"
      ]
     },
     "metadata": {},
     "output_type": "display_data"
    }
   ],
   "source": [
    "#目标值的对数变换\n",
    "targets_log = records.map(lambda r:np.log(float(r[-1]))).collect()\n",
    "hist(targets_log, bins=40, color='green', normed=True)\n",
    "fig = matplotlib.pyplot.gcf()\n",
    "fig.set_size_inches(12,6)\n",
    "plt.show()"
   ]
  },
  {
   "cell_type": "code",
   "execution_count": 71,
   "metadata": {},
   "outputs": [
    {
     "data": {
      "image/png": "[encoded data removed]",
      "text/plain": [
       "<matplotlib.figure.Figure at 0x7f54ced8ab50>"
      ]
     },
     "metadata": {},
     "output_type": "display_data"
    }
   ],
   "source": [
    "#目标值的平方根变换\n",
    "sqrt_targets = records.map(lambda r: np.sqrt(float(r[-1]))).collect() \n",
    "plt.hist(sqrt_targets, bins=40, color='green', normed=True) \n",
    "fig = matplotlib.pyplot.gcf() \n",
    "fig.set_size_inches(12, 6) \n",
    "plt.show()"
   ]
  },
  {
   "cell_type": "code",
   "execution_count": 76,
   "metadata": {},
   "outputs": [
    {
     "name": "stdout",
     "output_type": "stream",
     "text": [
      "Linear Model —— Mean Squared Error:50685.5559\n",
      "Linear Model —— Mean Absolue Error:155.2955\n",
      "Linear Model —— Root Mean Squared Log Error:1.5411\n",
      "Linear Model —— Non log-transformed predictions:\n",
      "[(16.0, 117.89250386724846), (40.0, 116.2249612319211), (32.0, 116.02369145779235)]\n",
      "Linear Model —— Log-transformed predictions:\n",
      "[(15.999999999999998, 28.080291845456212), (40.0, 26.959480191001763), (32.0, 26.654725629458021)]\n"
     ]
    }
   ],
   "source": [
    "#变换目标值，确认对模型的影响\n",
    "data_log = data.map(lambda lp:LabeledPoint(np.log(lp.label), lp.features))\n",
    "model_log = LinearRegressionWithSGD.train(data_log, iterations=10, step=0.1)\n",
    "true_vs_predicted_log = data_log.map(lambda p:(np.exp(p.label), np.exp(model_log.predict(p.features))))\n",
    "\n",
    "#计算模型的MSE,MAE,RMSLE\n",
    "mse_log = true_vs_predicted_log.map(lambda(t, p): squared_error(t,p)).mean() \n",
    "mae_log = true_vs_predicted_log.map(lambda(t, p): abs_error(t, p)).mean() \n",
    "rmsle_log = np.sqrt(true_vs_predicted_log.map(lambda(t, p): squared_log_error(t, p)).mean())\n",
    "\n",
    "print'Linear Model —— Mean Squared Error:%2.4f'% mse_log \n",
    "print'Linear Model —— Mean Absolue Error:%2.4f'% mae_log \n",
    "print'Linear Model —— Root Mean Squared Log Error:%2.4f'% rmsle_log \n",
    "print'Linear Model —— Non log-transformed predictions:\\n'+ str(true_vs_predicted.take(3))\n",
    "print'Linear Model —— Log-transformed predictions:\\n'+ str(true_vs_predicted_log.take(3))"
   ]
  },
  {
   "cell_type": "code",
   "execution_count": 77,
   "metadata": {},
   "outputs": [
    {
     "name": "stdout",
     "output_type": "stream",
     "text": [
      "测试集的样本数: 3524\n",
      "训练集的样本数: 13855\n"
     ]
    }
   ],
   "source": [
    "#模型参数调优\n",
    "train_test_data_split = data.randomSplit([0.8,0.2],123) \n",
    "train = train_test_data_split[0] \n",
    "test = train_test_data_split[1]\n",
    "print '测试集的样本数:',test.count()\n",
    "print '训练集的样本数:',train.count()"
   ]
  },
  {
   "cell_type": "code",
   "execution_count": 78,
   "metadata": {
    "collapsed": true
   },
   "outputs": [],
   "source": [
    "train_test_data_split = data_dt.randomSplit([0.8,0.2], 123)\n",
    "train_dt = train_test_data_split[0]\n",
    "test_dt = train_test_data_split[1]"
   ]
  },
  {
   "cell_type": "code",
   "execution_count": 79,
   "metadata": {
    "collapsed": true
   },
   "outputs": [],
   "source": [
    "#参数调整和评价\n",
    "def evaluate(train, test, iterations, step, regParam, regType, intercept):\n",
    "    model =LinearRegressionWithSGD.train(train, iterations, step, regParam=regParam, \n",
    "                                         regType=regType,intercept=intercept)\n",
    "    testLabel_vs_testPrediction = test.map(lambda point:(point.label, model.predict(point.features)))\n",
    "    rmsle = np.sqrt(testLabel_vs_testPrediction.map(lambda(t,p):squared_log_error(t,p)).mean())\n",
    "    return rmsle\n"
   ]
  },
  {
   "cell_type": "code",
   "execution_count": 95,
   "metadata": {},
   "outputs": [
    {
     "name": "stdout",
     "output_type": "stream",
     "text": [
      "[1, 5, 10, 20, 50, 100, 150]\n",
      "[2.9352350771042066, 2.0758830668686867, 1.7989931147537059, 1.5883231443924686, 1.4176140084119577, 1.3657070067736425, 1.3602364094306576]\n"
     ]
    }
   ],
   "source": [
    "#调整迭代次数\n",
    "params = [1, 5, 10, 20, 50, 100,150]\n",
    "metrics = [evaluate(train, test, param, 0.01, 0.0, 'l2', False) for param in params]\n",
    "print params\n",
    "print metrics"
   ]
  },
  {
   "cell_type": "code",
   "execution_count": 96,
   "metadata": {},
   "outputs": [
    {
     "data": {
      "image/png": "[encoded data removed]",
      "text/plain": [
       "<matplotlib.figure.Figure at 0x7f54cf24a1d0>"
      ]
     },
     "metadata": {},
     "output_type": "display_data"
    }
   ],
   "source": [
    "#刚开始，随着迭代次数的正价，损失值越来越小，但到达一定的迭代次数后，效果就不明显了\n",
    "plt.plot(params, metrics) \n",
    "fig = matplotlib.pyplot.gcf() \n",
    "fig.set_size_inches(12, 6) \n",
    "plt.xscale('log')\n",
    "plt.show()"
   ]
  },
  {
   "cell_type": "code",
   "execution_count": 98,
   "metadata": {},
   "outputs": [
    {
     "name": "stdout",
     "output_type": "stream",
     "text": [
      "[0.01, 0.025, 0.05, 0.1, 0.25, 0.5, 1.0]\n",
      "[1.7989931147537059, 1.4171148324980201, 1.3650071771547911, 1.4304258593507428, 1.452752209079011, 1.397443003471375, nan]\n"
     ]
    }
   ],
   "source": [
    "#较大的步长，算法收敛太快，可能得到较差的局部最优解\n",
    "#较小的步长+较大的迭代次数，通常能得到较好的结果\n",
    "params = [0.01,0.025,  0.05,0.1, 0.25,0.5,1.0]\n",
    "metrics = [evaluate(train, test, 10, param, 0.0, 'l2', False) for param in params]\n",
    "print params\n",
    "print metrics"
   ]
  },
  {
   "cell_type": "code",
   "execution_count": 99,
   "metadata": {},
   "outputs": [
    {
     "data": {
      "text/plain": [
       "<matplotlib.text.Text at 0x7f54cec36a50>"
      ]
     },
     "execution_count": 99,
     "metadata": {},
     "output_type": "execute_result"
    },
    {
     "data": {
      "image/png": "[encoded data removed]",
      "text/plain": [
       "<matplotlib.figure.Figure at 0x7f54cf4b4790>"
      ]
     },
     "metadata": {},
     "output_type": "display_data"
    }
   ],
   "source": [
    "plt.plot(params, metrics)\n",
    "fig = matplotlib.pyplot.gcf()\n",
    "fig.set_size_inches(12, 6)\n",
    "plt.xscale('log')\n",
    "plt.xlabel('step')\n",
    "plt.ylabel('RMSLE loss')\n"
   ]
  },
  {
   "cell_type": "code",
   "execution_count": 107,
   "metadata": {
    "collapsed": true
   },
   "outputs": [],
   "source": [
    "#决策树 训练参数的影响\n",
    "def evaluate_dt(train, test, maxDepth, maxBins):\n",
    "    model = DecisionTree.trainRegressor(train, {}, impurity='variance', maxDepth = maxDepth, maxBins = maxBins)\n",
    "    predictions = model.predict(test.map(lambda point:point.features))\n",
    "    actual = test.map(lambda point:point.label)\n",
    "    actual_vs_predictions = actual.zip(predictions)\n",
    "    rmsle = np.sqrt(actual_vs_predictions.map(lambda(t, p):squared_log_error(t, p)).mean())\n",
    "    return rmsle"
   ]
  },
  {
   "cell_type": "code",
   "execution_count": 109,
   "metadata": {},
   "outputs": [
    {
     "name": "stdout",
     "output_type": "stream",
     "text": [
      "[1, 2, 5, 10, 15, 20]\n",
      "[0.98639737057692223, 0.89633757971456884, 0.61770252554657723, 0.40230691776405364, 0.42324548632151338, 0.43101699186923659]\n"
     ]
    }
   ],
   "source": [
    "#树的深度影响性能，基本上深度为10最佳\n",
    "depthParams = [1,2,5,10,15,20]\n",
    "#print test_dt.take(2)\n",
    "metrics = [evaluate_dt(train_dt, test_dt, depthParam, 32) for depthParam in depthParams]\n",
    "print depthParams\n",
    "print metrics"
   ]
  },
  {
   "cell_type": "code",
   "execution_count": 110,
   "metadata": {},
   "outputs": [
    {
     "data": {
      "image/png": "[encoded data removed]",
      "text/plain": [
       "<matplotlib.figure.Figure at 0x7f54cf1b8150>"
      ]
     },
     "metadata": {},
     "output_type": "display_data"
    }
   ],
   "source": [
    "plt.plot(depthParams, metrics)\n",
    "fig = matplotlib.pyplot.gcf()\n",
    "fig.set_size_inches(12, 8)\n",
    "plt.xlabel('maxDepth')\n",
    "plt.ylabel('RMSLE')\n",
    "plt.show()"
   ]
  },
  {
   "cell_type": "code",
   "execution_count": null,
   "metadata": {
    "collapsed": true
   },
   "outputs": [],
   "source": []
  }
 ],
 "metadata": {
  "kernelspec": {
   "display_name": "Python 2",
   "language": "python",
   "name": "python2"
  },
  "language_info": {
   "codemirror_mode": {
    "name": "ipython",
    "version": 2
   },
   "file_extension": ".py",
   "mimetype": "text/x-python",
   "name": "python",
   "nbconvert_exporter": "python",
   "pygments_lexer": "ipython2",
   "version": "2.7.13"
  }
 },
 "nbformat": 4,
 "nbformat_minor": 2
}
